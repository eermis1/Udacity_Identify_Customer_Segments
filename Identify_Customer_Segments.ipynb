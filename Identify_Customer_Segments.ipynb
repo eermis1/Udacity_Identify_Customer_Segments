{
 "cells": [
  {
   "cell_type": "markdown",
   "metadata": {},
   "source": [
    "# Project: Identify Customer Segments\n",
    "\n",
    "In this project, you will apply unsupervised learning techniques to identify segments of the population that form the core customer base for a mail-order sales company in Germany. These segments can then be used to direct marketing campaigns towards audiences that will have the highest expected rate of returns. The data that you will use has been provided by our partners at Bertelsmann Arvato Analytics, and represents a real-life data science task.\n",
    "\n",
    "This notebook will help you complete this task by providing a framework within which you will perform your analysis steps. In each step of the project, you will see some text describing the subtask that you will perform, followed by one or more code cells for you to complete your work. **Feel free to add additional code and markdown cells as you go along so that you can explore everything in precise chunks.** The code cells provided in the base template will outline only the major tasks, and will usually not be enough to cover all of the minor tasks that comprise it.\n",
    "\n",
    "It should be noted that while there will be precise guidelines on how you should handle certain tasks in the project, there will also be places where an exact specification is not provided. **There will be times in the project where you will need to make and justify your own decisions on how to treat the data.** These are places where there may not be only one way to handle the data. In real-life tasks, there may be many valid ways to approach an analysis task. One of the most important things you can do is clearly document your approach so that other scientists can understand the decisions you've made.\n",
    "\n",
    "At the end of most sections, there will be a Markdown cell labeled **Discussion**. In these cells, you will report your findings for the completed section, as well as document the decisions that you made in your approach to each subtask. **Your project will be evaluated not just on the code used to complete the tasks outlined, but also your communication about your observations and conclusions at each stage.**"
   ]
  },
  {
   "cell_type": "markdown",
   "metadata": {},
   "source": [
    "### Dependencies\n",
    "\n",
    "In order to run the notebook flawlessly, please run\n",
    "\n",
    "    - pip install plotly==4.9.0 \n",
    "    - pip install pandas \n",
    "    - pip install numpy \n",
    "    - pip install -U scikit-learn \n",
    "    - pip install seaborn \n",
    "    - pip install matplotlib\n",
    "    - conda install -c plotly plotly-orca==1.3.1 psutil requests"
   ]
  },
  {
   "cell_type": "code",
   "execution_count": 1,
   "metadata": {},
   "outputs": [
    {
     "data": {
      "text/plain": [
       "'\\nImport note: The classroom currently uses sklearn version 0.19.\\nIf you need to use an imputer, it is available in sklearn.preprocessing.Imputer,\\ninstead of sklearn.impute as in newer versions of sklearn.\\n'"
      ]
     },
     "execution_count": 1,
     "metadata": {},
     "output_type": "execute_result"
    }
   ],
   "source": [
    "# import libraries here; add more as necessary\n",
    "import numpy as np\n",
    "import pandas as pd\n",
    "import matplotlib.pyplot as plt\n",
    "import seaborn as sns\n",
    "\n",
    "# magic word for producing visualizations in notebook\n",
    "%matplotlib inline\n",
    "\n",
    "'''\n",
    "Import note: The classroom currently uses sklearn version 0.19.\n",
    "If you need to use an imputer, it is available in sklearn.preprocessing.Imputer,\n",
    "instead of sklearn.impute as in newer versions of sklearn.\n",
    "'''"
   ]
  },
  {
   "cell_type": "markdown",
   "metadata": {},
   "source": [
    "### Step 0: Load the Data\n",
    "\n",
    "There are four files associated with this project (not including this one):\n",
    "\n",
    "- `Udacity_AZDIAS_Subset.csv`: Demographics data for the general population of Germany; 891211 persons (rows) x 85 features (columns).\n",
    "- `Udacity_CUSTOMERS_Subset.csv`: Demographics data for customers of a mail-order company; 191652 persons (rows) x 85 features (columns).\n",
    "- `Data_Dictionary.md`: Detailed information file about the features in the provided datasets.\n",
    "- `AZDIAS_Feature_Summary.csv`: Summary of feature attributes for demographics data; 85 features (rows) x 4 columns\n",
    "\n",
    "Each row of the demographics files represents a single person, but also includes information outside of individuals, including information about their household, building, and neighborhood. You will use this information to cluster the general population into groups with similar demographic properties. Then, you will see how the people in the customers dataset fit into those created clusters. The hope here is that certain clusters are over-represented in the customers data, as compared to the general population; those over-represented clusters will be assumed to be part of the core userbase. This information can then be used for further applications, such as targeting for a marketing campaign.\n",
    "\n",
    "To start off with, load in the demographics data for the general population into a pandas DataFrame, and do the same for the feature attributes summary. Note for all of the `.csv` data files in this project: they're semicolon (`;`) delimited, so you'll need an additional argument in your [`read_csv()`](https://pandas.pydata.org/pandas-docs/stable/generated/pandas.read_csv.html) call to read in the data properly. Also, considering the size of the main dataset, it may take some time for it to load completely.\n",
    "\n",
    "Once the dataset is loaded, it's recommended that you take a little bit of time just browsing the general structure of the dataset and feature summary file. You'll be getting deep into the innards of the cleaning in the first major step of the project, so gaining some general familiarity can help you get your bearings."
   ]
  },
  {
   "cell_type": "code",
   "execution_count": 2,
   "metadata": {},
   "outputs": [],
   "source": [
    "# Load in the general demographics data.\n",
    "azdias = pd.read_csv('Udacity_AZDIAS_Subset.csv', sep=';')\n",
    "\n",
    "# Load in the feature summary file.\n",
    "feat_info = pd.read_csv('AZDIAS_Feature_Summary.csv', sep=';')"
   ]
  },
  {
   "cell_type": "code",
   "execution_count": 3,
   "metadata": {},
   "outputs": [
    {
     "name": "stdout",
     "output_type": "stream",
     "text": [
      "azdias - Number of columns: 891221\n",
      "azdias - Number of rows: 85\n"
     ]
    }
   ],
   "source": [
    "# Check the structure of the data after it's loaded (e.g. print the number of\n",
    "# rows and columns, print the first few rows).\n",
    "\n",
    "print('azdias - Number of columns: {}'.format(azdias.shape[0]))\n",
    "print('azdias - Number of rows: {}'.format(azdias.shape[1]))"
   ]
  },
  {
   "cell_type": "code",
   "execution_count": 4,
   "metadata": {},
   "outputs": [
    {
     "data": {
      "text/html": [
       "<div>\n",
       "<style scoped>\n",
       "    .dataframe tbody tr th:only-of-type {\n",
       "        vertical-align: middle;\n",
       "    }\n",
       "\n",
       "    .dataframe tbody tr th {\n",
       "        vertical-align: top;\n",
       "    }\n",
       "\n",
       "    .dataframe thead th {\n",
       "        text-align: right;\n",
       "    }\n",
       "</style>\n",
       "<table border=\"1\" class=\"dataframe\">\n",
       "  <thead>\n",
       "    <tr style=\"text-align: right;\">\n",
       "      <th></th>\n",
       "      <th>AGER_TYP</th>\n",
       "      <th>ALTERSKATEGORIE_GROB</th>\n",
       "      <th>ANREDE_KZ</th>\n",
       "      <th>CJT_GESAMTTYP</th>\n",
       "      <th>FINANZ_MINIMALIST</th>\n",
       "      <th>FINANZ_SPARER</th>\n",
       "      <th>FINANZ_VORSORGER</th>\n",
       "      <th>FINANZ_ANLEGER</th>\n",
       "      <th>FINANZ_UNAUFFAELLIGER</th>\n",
       "      <th>FINANZ_HAUSBAUER</th>\n",
       "      <th>...</th>\n",
       "      <th>PLZ8_ANTG1</th>\n",
       "      <th>PLZ8_ANTG2</th>\n",
       "      <th>PLZ8_ANTG3</th>\n",
       "      <th>PLZ8_ANTG4</th>\n",
       "      <th>PLZ8_BAUMAX</th>\n",
       "      <th>PLZ8_HHZ</th>\n",
       "      <th>PLZ8_GBZ</th>\n",
       "      <th>ARBEIT</th>\n",
       "      <th>ORTSGR_KLS9</th>\n",
       "      <th>RELAT_AB</th>\n",
       "    </tr>\n",
       "  </thead>\n",
       "  <tbody>\n",
       "    <tr>\n",
       "      <td>0</td>\n",
       "      <td>-1</td>\n",
       "      <td>2</td>\n",
       "      <td>1</td>\n",
       "      <td>2.0</td>\n",
       "      <td>3</td>\n",
       "      <td>4</td>\n",
       "      <td>3</td>\n",
       "      <td>5</td>\n",
       "      <td>5</td>\n",
       "      <td>3</td>\n",
       "      <td>...</td>\n",
       "      <td>NaN</td>\n",
       "      <td>NaN</td>\n",
       "      <td>NaN</td>\n",
       "      <td>NaN</td>\n",
       "      <td>NaN</td>\n",
       "      <td>NaN</td>\n",
       "      <td>NaN</td>\n",
       "      <td>NaN</td>\n",
       "      <td>NaN</td>\n",
       "      <td>NaN</td>\n",
       "    </tr>\n",
       "    <tr>\n",
       "      <td>1</td>\n",
       "      <td>-1</td>\n",
       "      <td>1</td>\n",
       "      <td>2</td>\n",
       "      <td>5.0</td>\n",
       "      <td>1</td>\n",
       "      <td>5</td>\n",
       "      <td>2</td>\n",
       "      <td>5</td>\n",
       "      <td>4</td>\n",
       "      <td>5</td>\n",
       "      <td>...</td>\n",
       "      <td>2.0</td>\n",
       "      <td>3.0</td>\n",
       "      <td>2.0</td>\n",
       "      <td>1.0</td>\n",
       "      <td>1.0</td>\n",
       "      <td>5.0</td>\n",
       "      <td>4.0</td>\n",
       "      <td>3.0</td>\n",
       "      <td>5.0</td>\n",
       "      <td>4.0</td>\n",
       "    </tr>\n",
       "    <tr>\n",
       "      <td>2</td>\n",
       "      <td>-1</td>\n",
       "      <td>3</td>\n",
       "      <td>2</td>\n",
       "      <td>3.0</td>\n",
       "      <td>1</td>\n",
       "      <td>4</td>\n",
       "      <td>1</td>\n",
       "      <td>2</td>\n",
       "      <td>3</td>\n",
       "      <td>5</td>\n",
       "      <td>...</td>\n",
       "      <td>3.0</td>\n",
       "      <td>3.0</td>\n",
       "      <td>1.0</td>\n",
       "      <td>0.0</td>\n",
       "      <td>1.0</td>\n",
       "      <td>4.0</td>\n",
       "      <td>4.0</td>\n",
       "      <td>3.0</td>\n",
       "      <td>5.0</td>\n",
       "      <td>2.0</td>\n",
       "    </tr>\n",
       "    <tr>\n",
       "      <td>3</td>\n",
       "      <td>2</td>\n",
       "      <td>4</td>\n",
       "      <td>2</td>\n",
       "      <td>2.0</td>\n",
       "      <td>4</td>\n",
       "      <td>2</td>\n",
       "      <td>5</td>\n",
       "      <td>2</td>\n",
       "      <td>1</td>\n",
       "      <td>2</td>\n",
       "      <td>...</td>\n",
       "      <td>2.0</td>\n",
       "      <td>2.0</td>\n",
       "      <td>2.0</td>\n",
       "      <td>0.0</td>\n",
       "      <td>1.0</td>\n",
       "      <td>3.0</td>\n",
       "      <td>4.0</td>\n",
       "      <td>2.0</td>\n",
       "      <td>3.0</td>\n",
       "      <td>3.0</td>\n",
       "    </tr>\n",
       "    <tr>\n",
       "      <td>4</td>\n",
       "      <td>-1</td>\n",
       "      <td>3</td>\n",
       "      <td>1</td>\n",
       "      <td>5.0</td>\n",
       "      <td>4</td>\n",
       "      <td>3</td>\n",
       "      <td>4</td>\n",
       "      <td>1</td>\n",
       "      <td>3</td>\n",
       "      <td>2</td>\n",
       "      <td>...</td>\n",
       "      <td>2.0</td>\n",
       "      <td>4.0</td>\n",
       "      <td>2.0</td>\n",
       "      <td>1.0</td>\n",
       "      <td>2.0</td>\n",
       "      <td>3.0</td>\n",
       "      <td>3.0</td>\n",
       "      <td>4.0</td>\n",
       "      <td>6.0</td>\n",
       "      <td>5.0</td>\n",
       "    </tr>\n",
       "  </tbody>\n",
       "</table>\n",
       "<p>5 rows × 85 columns</p>\n",
       "</div>"
      ],
      "text/plain": [
       "   AGER_TYP  ALTERSKATEGORIE_GROB  ANREDE_KZ  CJT_GESAMTTYP  \\\n",
       "0        -1                     2          1            2.0   \n",
       "1        -1                     1          2            5.0   \n",
       "2        -1                     3          2            3.0   \n",
       "3         2                     4          2            2.0   \n",
       "4        -1                     3          1            5.0   \n",
       "\n",
       "   FINANZ_MINIMALIST  FINANZ_SPARER  FINANZ_VORSORGER  FINANZ_ANLEGER  \\\n",
       "0                  3              4                 3               5   \n",
       "1                  1              5                 2               5   \n",
       "2                  1              4                 1               2   \n",
       "3                  4              2                 5               2   \n",
       "4                  4              3                 4               1   \n",
       "\n",
       "   FINANZ_UNAUFFAELLIGER  FINANZ_HAUSBAUER  ...  PLZ8_ANTG1  PLZ8_ANTG2  \\\n",
       "0                      5                 3  ...         NaN         NaN   \n",
       "1                      4                 5  ...         2.0         3.0   \n",
       "2                      3                 5  ...         3.0         3.0   \n",
       "3                      1                 2  ...         2.0         2.0   \n",
       "4                      3                 2  ...         2.0         4.0   \n",
       "\n",
       "   PLZ8_ANTG3  PLZ8_ANTG4  PLZ8_BAUMAX  PLZ8_HHZ  PLZ8_GBZ  ARBEIT  \\\n",
       "0         NaN         NaN          NaN       NaN       NaN     NaN   \n",
       "1         2.0         1.0          1.0       5.0       4.0     3.0   \n",
       "2         1.0         0.0          1.0       4.0       4.0     3.0   \n",
       "3         2.0         0.0          1.0       3.0       4.0     2.0   \n",
       "4         2.0         1.0          2.0       3.0       3.0     4.0   \n",
       "\n",
       "   ORTSGR_KLS9  RELAT_AB  \n",
       "0          NaN       NaN  \n",
       "1          5.0       4.0  \n",
       "2          5.0       2.0  \n",
       "3          3.0       3.0  \n",
       "4          6.0       5.0  \n",
       "\n",
       "[5 rows x 85 columns]"
      ]
     },
     "execution_count": 4,
     "metadata": {},
     "output_type": "execute_result"
    }
   ],
   "source": [
    "azdias.head()"
   ]
  },
  {
   "cell_type": "code",
   "execution_count": 5,
   "metadata": {},
   "outputs": [
    {
     "name": "stdout",
     "output_type": "stream",
     "text": [
      "<class 'pandas.core.frame.DataFrame'>\n",
      "RangeIndex: 891221 entries, 0 to 891220\n",
      "Data columns (total 85 columns):\n",
      "AGER_TYP                 891221 non-null int64\n",
      "ALTERSKATEGORIE_GROB     891221 non-null int64\n",
      "ANREDE_KZ                891221 non-null int64\n",
      "CJT_GESAMTTYP            886367 non-null float64\n",
      "FINANZ_MINIMALIST        891221 non-null int64\n",
      "FINANZ_SPARER            891221 non-null int64\n",
      "FINANZ_VORSORGER         891221 non-null int64\n",
      "FINANZ_ANLEGER           891221 non-null int64\n",
      "FINANZ_UNAUFFAELLIGER    891221 non-null int64\n",
      "FINANZ_HAUSBAUER         891221 non-null int64\n",
      "FINANZTYP                891221 non-null int64\n",
      "GEBURTSJAHR              891221 non-null int64\n",
      "GFK_URLAUBERTYP          886367 non-null float64\n",
      "GREEN_AVANTGARDE         891221 non-null int64\n",
      "HEALTH_TYP               891221 non-null int64\n",
      "LP_LEBENSPHASE_FEIN      886367 non-null float64\n",
      "LP_LEBENSPHASE_GROB      886367 non-null float64\n",
      "LP_FAMILIE_FEIN          886367 non-null float64\n",
      "LP_FAMILIE_GROB          886367 non-null float64\n",
      "LP_STATUS_FEIN           886367 non-null float64\n",
      "LP_STATUS_GROB           886367 non-null float64\n",
      "NATIONALITAET_KZ         891221 non-null int64\n",
      "PRAEGENDE_JUGENDJAHRE    891221 non-null int64\n",
      "RETOURTYP_BK_S           886367 non-null float64\n",
      "SEMIO_SOZ                891221 non-null int64\n",
      "SEMIO_FAM                891221 non-null int64\n",
      "SEMIO_REL                891221 non-null int64\n",
      "SEMIO_MAT                891221 non-null int64\n",
      "SEMIO_VERT               891221 non-null int64\n",
      "SEMIO_LUST               891221 non-null int64\n",
      "SEMIO_ERL                891221 non-null int64\n",
      "SEMIO_KULT               891221 non-null int64\n",
      "SEMIO_RAT                891221 non-null int64\n",
      "SEMIO_KRIT               891221 non-null int64\n",
      "SEMIO_DOM                891221 non-null int64\n",
      "SEMIO_KAEM               891221 non-null int64\n",
      "SEMIO_PFLICHT            891221 non-null int64\n",
      "SEMIO_TRADV              891221 non-null int64\n",
      "SHOPPER_TYP              891221 non-null int64\n",
      "SOHO_KZ                  817722 non-null float64\n",
      "TITEL_KZ                 817722 non-null float64\n",
      "VERS_TYP                 891221 non-null int64\n",
      "ZABEOTYP                 891221 non-null int64\n",
      "ALTER_HH                 817722 non-null float64\n",
      "ANZ_PERSONEN             817722 non-null float64\n",
      "ANZ_TITEL                817722 non-null float64\n",
      "HH_EINKOMMEN_SCORE       872873 non-null float64\n",
      "KK_KUNDENTYP             306609 non-null float64\n",
      "W_KEIT_KIND_HH           783619 non-null float64\n",
      "WOHNDAUER_2008           817722 non-null float64\n",
      "ANZ_HAUSHALTE_AKTIV      798073 non-null float64\n",
      "ANZ_HH_TITEL             794213 non-null float64\n",
      "GEBAEUDETYP              798073 non-null float64\n",
      "KONSUMNAEHE              817252 non-null float64\n",
      "MIN_GEBAEUDEJAHR         798073 non-null float64\n",
      "OST_WEST_KZ              798073 non-null object\n",
      "WOHNLAGE                 798073 non-null float64\n",
      "CAMEO_DEUG_2015          792242 non-null object\n",
      "CAMEO_DEU_2015           792242 non-null object\n",
      "CAMEO_INTL_2015          792242 non-null object\n",
      "KBA05_ANTG1              757897 non-null float64\n",
      "KBA05_ANTG2              757897 non-null float64\n",
      "KBA05_ANTG3              757897 non-null float64\n",
      "KBA05_ANTG4              757897 non-null float64\n",
      "KBA05_BAUMAX             757897 non-null float64\n",
      "KBA05_GBZ                757897 non-null float64\n",
      "BALLRAUM                 797481 non-null float64\n",
      "EWDICHTE                 797481 non-null float64\n",
      "INNENSTADT               797481 non-null float64\n",
      "GEBAEUDETYP_RASTER       798066 non-null float64\n",
      "KKK                      770025 non-null float64\n",
      "MOBI_REGIO               757897 non-null float64\n",
      "ONLINE_AFFINITAET        886367 non-null float64\n",
      "REGIOTYP                 770025 non-null float64\n",
      "KBA13_ANZAHL_PKW         785421 non-null float64\n",
      "PLZ8_ANTG1               774706 non-null float64\n",
      "PLZ8_ANTG2               774706 non-null float64\n",
      "PLZ8_ANTG3               774706 non-null float64\n",
      "PLZ8_ANTG4               774706 non-null float64\n",
      "PLZ8_BAUMAX              774706 non-null float64\n",
      "PLZ8_HHZ                 774706 non-null float64\n",
      "PLZ8_GBZ                 774706 non-null float64\n",
      "ARBEIT                   794005 non-null float64\n",
      "ORTSGR_KLS9              794005 non-null float64\n",
      "RELAT_AB                 794005 non-null float64\n",
      "dtypes: float64(49), int64(32), object(4)\n",
      "memory usage: 578.0+ MB\n"
     ]
    }
   ],
   "source": [
    "azdias.info()"
   ]
  },
  {
   "cell_type": "code",
   "execution_count": 6,
   "metadata": {},
   "outputs": [
    {
     "name": "stdout",
     "output_type": "stream",
     "text": [
      "feat_info  - Number of columns: 85\n",
      "feat_info  - Number of rows: 4\n"
     ]
    }
   ],
   "source": [
    "print('feat_info  - Number of columns: {}'.format(feat_info .shape[0]))\n",
    "print('feat_info  - Number of rows: {}'.format(feat_info .shape[1]))"
   ]
  },
  {
   "cell_type": "code",
   "execution_count": 7,
   "metadata": {},
   "outputs": [
    {
     "data": {
      "text/html": [
       "<div>\n",
       "<style scoped>\n",
       "    .dataframe tbody tr th:only-of-type {\n",
       "        vertical-align: middle;\n",
       "    }\n",
       "\n",
       "    .dataframe tbody tr th {\n",
       "        vertical-align: top;\n",
       "    }\n",
       "\n",
       "    .dataframe thead th {\n",
       "        text-align: right;\n",
       "    }\n",
       "</style>\n",
       "<table border=\"1\" class=\"dataframe\">\n",
       "  <thead>\n",
       "    <tr style=\"text-align: right;\">\n",
       "      <th></th>\n",
       "      <th>attribute</th>\n",
       "      <th>information_level</th>\n",
       "      <th>type</th>\n",
       "      <th>missing_or_unknown</th>\n",
       "    </tr>\n",
       "  </thead>\n",
       "  <tbody>\n",
       "    <tr>\n",
       "      <td>0</td>\n",
       "      <td>AGER_TYP</td>\n",
       "      <td>person</td>\n",
       "      <td>categorical</td>\n",
       "      <td>[-1,0]</td>\n",
       "    </tr>\n",
       "    <tr>\n",
       "      <td>1</td>\n",
       "      <td>ALTERSKATEGORIE_GROB</td>\n",
       "      <td>person</td>\n",
       "      <td>ordinal</td>\n",
       "      <td>[-1,0,9]</td>\n",
       "    </tr>\n",
       "    <tr>\n",
       "      <td>2</td>\n",
       "      <td>ANREDE_KZ</td>\n",
       "      <td>person</td>\n",
       "      <td>categorical</td>\n",
       "      <td>[-1,0]</td>\n",
       "    </tr>\n",
       "    <tr>\n",
       "      <td>3</td>\n",
       "      <td>CJT_GESAMTTYP</td>\n",
       "      <td>person</td>\n",
       "      <td>categorical</td>\n",
       "      <td>[0]</td>\n",
       "    </tr>\n",
       "    <tr>\n",
       "      <td>4</td>\n",
       "      <td>FINANZ_MINIMALIST</td>\n",
       "      <td>person</td>\n",
       "      <td>ordinal</td>\n",
       "      <td>[-1]</td>\n",
       "    </tr>\n",
       "  </tbody>\n",
       "</table>\n",
       "</div>"
      ],
      "text/plain": [
       "              attribute information_level         type missing_or_unknown\n",
       "0              AGER_TYP            person  categorical             [-1,0]\n",
       "1  ALTERSKATEGORIE_GROB            person      ordinal           [-1,0,9]\n",
       "2             ANREDE_KZ            person  categorical             [-1,0]\n",
       "3         CJT_GESAMTTYP            person  categorical                [0]\n",
       "4     FINANZ_MINIMALIST            person      ordinal               [-1]"
      ]
     },
     "execution_count": 7,
     "metadata": {},
     "output_type": "execute_result"
    }
   ],
   "source": [
    "feat_info.head()"
   ]
  },
  {
   "cell_type": "code",
   "execution_count": 8,
   "metadata": {},
   "outputs": [
    {
     "name": "stdout",
     "output_type": "stream",
     "text": [
      "<class 'pandas.core.frame.DataFrame'>\n",
      "RangeIndex: 85 entries, 0 to 84\n",
      "Data columns (total 4 columns):\n",
      "attribute             85 non-null object\n",
      "information_level     85 non-null object\n",
      "type                  85 non-null object\n",
      "missing_or_unknown    85 non-null object\n",
      "dtypes: object(4)\n",
      "memory usage: 2.8+ KB\n"
     ]
    }
   ],
   "source": [
    "feat_info.info()"
   ]
  },
  {
   "cell_type": "markdown",
   "metadata": {},
   "source": [
    "> **Tip**: Add additional cells to keep everything in reasonably-sized chunks! Keyboard shortcut `esc --> a` (press escape to enter command mode, then press the 'A' key) adds a new cell before the active cell, and `esc --> b` adds a new cell after the active cell. If you need to convert an active cell to a markdown cell, use `esc --> m` and to convert to a code cell, use `esc --> y`. \n",
    "\n",
    "## Step 1: Preprocessing\n",
    "\n",
    "### Step 1.1: Assess Missing Data\n",
    "\n",
    "The feature summary file contains a summary of properties for each demographics data column. You will use this file to help you make cleaning decisions during this stage of the project. First of all, you should assess the demographics data in terms of missing data. Pay attention to the following points as you perform your analysis, and take notes on what you observe. Make sure that you fill in the **Discussion** cell with your findings and decisions at the end of each step that has one!\n",
    "\n",
    "#### Step 1.1.1: Convert Missing Value Codes to NaNs\n",
    "The fourth column of the feature attributes summary (loaded in above as `feat_info`) documents the codes from the data dictionary that indicate missing or unknown data. While the file encodes this as a list (e.g. `[-1,0]`), this will get read in as a string object. You'll need to do a little bit of parsing to make use of it to identify and clean the data. Convert data that matches a 'missing' or 'unknown' value code into a numpy NaN value. You might want to see how much data takes on a 'missing' or 'unknown' code, and how much data is naturally missing, as a point of interest.\n",
    "\n",
    "**As one more reminder, you are encouraged to add additional cells to break up your analysis into manageable chunks.**"
   ]
  },
  {
   "cell_type": "markdown",
   "metadata": {},
   "source": [
    "- ### *Initial Missing Value Status of \"azdias\"*"
   ]
  },
  {
   "cell_type": "code",
   "execution_count": 9,
   "metadata": {},
   "outputs": [
    {
     "data": {
      "text/plain": [
       "AGER_TYP                     0\n",
       "ALTERSKATEGORIE_GROB         0\n",
       "ANREDE_KZ                    0\n",
       "CJT_GESAMTTYP             4854\n",
       "FINANZ_MINIMALIST            0\n",
       "                         ...  \n",
       "PLZ8_HHZ                116515\n",
       "PLZ8_GBZ                116515\n",
       "ARBEIT                   97216\n",
       "ORTSGR_KLS9              97216\n",
       "RELAT_AB                 97216\n",
       "Length: 85, dtype: int64"
      ]
     },
     "execution_count": 9,
     "metadata": {},
     "output_type": "execute_result"
    }
   ],
   "source": [
    "azdias.isnull().sum()"
   ]
  },
  {
   "cell_type": "code",
   "execution_count": 10,
   "metadata": {},
   "outputs": [
    {
     "name": "stdout",
     "output_type": "stream",
     "text": [
      "Number of missing values before mapping : 4896838\n"
     ]
    }
   ],
   "source": [
    "# Identify missing or unknown data values and convert them to NaNs.\n",
    "\n",
    "print(\"Number of missing values before mapping : {}\".format(azdias.isnull().sum().sum()))"
   ]
  },
  {
   "cell_type": "markdown",
   "metadata": {},
   "source": [
    "- ### *Missing Value Mapping*"
   ]
  },
  {
   "cell_type": "code",
   "execution_count": 11,
   "metadata": {},
   "outputs": [],
   "source": [
    "# Extract values from missing_or_unknown column and replace them with Null in azdias\n",
    "\n",
    "for i in range(feat_info.shape[0]):\n",
    "    \n",
    "    missing_or_unknown = feat_info.iloc[i]['missing_or_unknown']\n",
    "    missing_or_unknown = missing_or_unknown.strip(\"[\").strip(\"]\").split(\",\")\n",
    "\n",
    "    missing_or_unknown = [int(value) if (value!='X' and value!='XX' and value!='') else value for value in missing_or_unknown]\n",
    "    \n",
    "    if missing_or_unknown != ['']:\n",
    "        azdias = azdias.replace({feat_info.iloc[i]['attribute']: missing_or_unknown}, np.nan)"
   ]
  },
  {
   "cell_type": "code",
   "execution_count": 12,
   "metadata": {},
   "outputs": [
    {
     "data": {
      "text/html": [
       "<div>\n",
       "<style scoped>\n",
       "    .dataframe tbody tr th:only-of-type {\n",
       "        vertical-align: middle;\n",
       "    }\n",
       "\n",
       "    .dataframe tbody tr th {\n",
       "        vertical-align: top;\n",
       "    }\n",
       "\n",
       "    .dataframe thead th {\n",
       "        text-align: right;\n",
       "    }\n",
       "</style>\n",
       "<table border=\"1\" class=\"dataframe\">\n",
       "  <thead>\n",
       "    <tr style=\"text-align: right;\">\n",
       "      <th></th>\n",
       "      <th>AGER_TYP</th>\n",
       "      <th>ALTERSKATEGORIE_GROB</th>\n",
       "      <th>ANREDE_KZ</th>\n",
       "      <th>CJT_GESAMTTYP</th>\n",
       "      <th>FINANZ_MINIMALIST</th>\n",
       "      <th>FINANZ_SPARER</th>\n",
       "      <th>FINANZ_VORSORGER</th>\n",
       "      <th>FINANZ_ANLEGER</th>\n",
       "      <th>FINANZ_UNAUFFAELLIGER</th>\n",
       "      <th>FINANZ_HAUSBAUER</th>\n",
       "      <th>...</th>\n",
       "      <th>PLZ8_ANTG1</th>\n",
       "      <th>PLZ8_ANTG2</th>\n",
       "      <th>PLZ8_ANTG3</th>\n",
       "      <th>PLZ8_ANTG4</th>\n",
       "      <th>PLZ8_BAUMAX</th>\n",
       "      <th>PLZ8_HHZ</th>\n",
       "      <th>PLZ8_GBZ</th>\n",
       "      <th>ARBEIT</th>\n",
       "      <th>ORTSGR_KLS9</th>\n",
       "      <th>RELAT_AB</th>\n",
       "    </tr>\n",
       "  </thead>\n",
       "  <tbody>\n",
       "    <tr>\n",
       "      <td>0</td>\n",
       "      <td>NaN</td>\n",
       "      <td>2.0</td>\n",
       "      <td>1</td>\n",
       "      <td>2.0</td>\n",
       "      <td>3</td>\n",
       "      <td>4</td>\n",
       "      <td>3</td>\n",
       "      <td>5</td>\n",
       "      <td>5</td>\n",
       "      <td>3</td>\n",
       "      <td>...</td>\n",
       "      <td>NaN</td>\n",
       "      <td>NaN</td>\n",
       "      <td>NaN</td>\n",
       "      <td>NaN</td>\n",
       "      <td>NaN</td>\n",
       "      <td>NaN</td>\n",
       "      <td>NaN</td>\n",
       "      <td>NaN</td>\n",
       "      <td>NaN</td>\n",
       "      <td>NaN</td>\n",
       "    </tr>\n",
       "    <tr>\n",
       "      <td>1</td>\n",
       "      <td>NaN</td>\n",
       "      <td>1.0</td>\n",
       "      <td>2</td>\n",
       "      <td>5.0</td>\n",
       "      <td>1</td>\n",
       "      <td>5</td>\n",
       "      <td>2</td>\n",
       "      <td>5</td>\n",
       "      <td>4</td>\n",
       "      <td>5</td>\n",
       "      <td>...</td>\n",
       "      <td>2.0</td>\n",
       "      <td>3.0</td>\n",
       "      <td>2.0</td>\n",
       "      <td>1.0</td>\n",
       "      <td>1.0</td>\n",
       "      <td>5.0</td>\n",
       "      <td>4.0</td>\n",
       "      <td>3.0</td>\n",
       "      <td>5.0</td>\n",
       "      <td>4.0</td>\n",
       "    </tr>\n",
       "    <tr>\n",
       "      <td>2</td>\n",
       "      <td>NaN</td>\n",
       "      <td>3.0</td>\n",
       "      <td>2</td>\n",
       "      <td>3.0</td>\n",
       "      <td>1</td>\n",
       "      <td>4</td>\n",
       "      <td>1</td>\n",
       "      <td>2</td>\n",
       "      <td>3</td>\n",
       "      <td>5</td>\n",
       "      <td>...</td>\n",
       "      <td>3.0</td>\n",
       "      <td>3.0</td>\n",
       "      <td>1.0</td>\n",
       "      <td>0.0</td>\n",
       "      <td>1.0</td>\n",
       "      <td>4.0</td>\n",
       "      <td>4.0</td>\n",
       "      <td>3.0</td>\n",
       "      <td>5.0</td>\n",
       "      <td>2.0</td>\n",
       "    </tr>\n",
       "    <tr>\n",
       "      <td>3</td>\n",
       "      <td>2.0</td>\n",
       "      <td>4.0</td>\n",
       "      <td>2</td>\n",
       "      <td>2.0</td>\n",
       "      <td>4</td>\n",
       "      <td>2</td>\n",
       "      <td>5</td>\n",
       "      <td>2</td>\n",
       "      <td>1</td>\n",
       "      <td>2</td>\n",
       "      <td>...</td>\n",
       "      <td>2.0</td>\n",
       "      <td>2.0</td>\n",
       "      <td>2.0</td>\n",
       "      <td>0.0</td>\n",
       "      <td>1.0</td>\n",
       "      <td>3.0</td>\n",
       "      <td>4.0</td>\n",
       "      <td>2.0</td>\n",
       "      <td>3.0</td>\n",
       "      <td>3.0</td>\n",
       "    </tr>\n",
       "    <tr>\n",
       "      <td>4</td>\n",
       "      <td>NaN</td>\n",
       "      <td>3.0</td>\n",
       "      <td>1</td>\n",
       "      <td>5.0</td>\n",
       "      <td>4</td>\n",
       "      <td>3</td>\n",
       "      <td>4</td>\n",
       "      <td>1</td>\n",
       "      <td>3</td>\n",
       "      <td>2</td>\n",
       "      <td>...</td>\n",
       "      <td>2.0</td>\n",
       "      <td>4.0</td>\n",
       "      <td>2.0</td>\n",
       "      <td>1.0</td>\n",
       "      <td>2.0</td>\n",
       "      <td>3.0</td>\n",
       "      <td>3.0</td>\n",
       "      <td>4.0</td>\n",
       "      <td>6.0</td>\n",
       "      <td>5.0</td>\n",
       "    </tr>\n",
       "  </tbody>\n",
       "</table>\n",
       "<p>5 rows × 85 columns</p>\n",
       "</div>"
      ],
      "text/plain": [
       "   AGER_TYP  ALTERSKATEGORIE_GROB  ANREDE_KZ  CJT_GESAMTTYP  \\\n",
       "0       NaN                   2.0          1            2.0   \n",
       "1       NaN                   1.0          2            5.0   \n",
       "2       NaN                   3.0          2            3.0   \n",
       "3       2.0                   4.0          2            2.0   \n",
       "4       NaN                   3.0          1            5.0   \n",
       "\n",
       "   FINANZ_MINIMALIST  FINANZ_SPARER  FINANZ_VORSORGER  FINANZ_ANLEGER  \\\n",
       "0                  3              4                 3               5   \n",
       "1                  1              5                 2               5   \n",
       "2                  1              4                 1               2   \n",
       "3                  4              2                 5               2   \n",
       "4                  4              3                 4               1   \n",
       "\n",
       "   FINANZ_UNAUFFAELLIGER  FINANZ_HAUSBAUER  ...  PLZ8_ANTG1  PLZ8_ANTG2  \\\n",
       "0                      5                 3  ...         NaN         NaN   \n",
       "1                      4                 5  ...         2.0         3.0   \n",
       "2                      3                 5  ...         3.0         3.0   \n",
       "3                      1                 2  ...         2.0         2.0   \n",
       "4                      3                 2  ...         2.0         4.0   \n",
       "\n",
       "   PLZ8_ANTG3  PLZ8_ANTG4  PLZ8_BAUMAX  PLZ8_HHZ  PLZ8_GBZ  ARBEIT  \\\n",
       "0         NaN         NaN          NaN       NaN       NaN     NaN   \n",
       "1         2.0         1.0          1.0       5.0       4.0     3.0   \n",
       "2         1.0         0.0          1.0       4.0       4.0     3.0   \n",
       "3         2.0         0.0          1.0       3.0       4.0     2.0   \n",
       "4         2.0         1.0          2.0       3.0       3.0     4.0   \n",
       "\n",
       "   ORTSGR_KLS9  RELAT_AB  \n",
       "0          NaN       NaN  \n",
       "1          5.0       4.0  \n",
       "2          5.0       2.0  \n",
       "3          3.0       3.0  \n",
       "4          6.0       5.0  \n",
       "\n",
       "[5 rows x 85 columns]"
      ]
     },
     "execution_count": 12,
     "metadata": {},
     "output_type": "execute_result"
    }
   ],
   "source": [
    "azdias.head()"
   ]
  },
  {
   "cell_type": "code",
   "execution_count": 13,
   "metadata": {},
   "outputs": [
    {
     "name": "stdout",
     "output_type": "stream",
     "text": [
      "Number of missing values after mapping  : 8373929\n"
     ]
    }
   ],
   "source": [
    "print(\"Number of missing values after mapping  : {}\".format(azdias.isnull().sum().sum()))"
   ]
  },
  {
   "cell_type": "markdown",
   "metadata": {},
   "source": [
    "#### Step 1.1.2: Assess Missing Data in Each Column\n",
    "\n",
    "How much missing data is present in each column? There are a few columns that are outliers in terms of the proportion of values that are missing. You will want to use matplotlib's [`hist()`](https://matplotlib.org/api/_as_gen/matplotlib.pyplot.hist.html) function to visualize the distribution of missing value counts to find these columns. Identify and document these columns. While some of these columns might have justifications for keeping or re-encoding the data, for this project you should just remove them from the dataframe. (Feel free to make remarks about these outlier columns in the discussion, however!)\n",
    "\n",
    "For the remaining features, are there any patterns in which columns have, or share, missing data?"
   ]
  },
  {
   "cell_type": "code",
   "execution_count": 14,
   "metadata": {},
   "outputs": [
    {
     "data": {
      "text/html": [
       "<div>\n",
       "<style scoped>\n",
       "    .dataframe tbody tr th:only-of-type {\n",
       "        vertical-align: middle;\n",
       "    }\n",
       "\n",
       "    .dataframe tbody tr th {\n",
       "        vertical-align: top;\n",
       "    }\n",
       "\n",
       "    .dataframe thead th {\n",
       "        text-align: right;\n",
       "    }\n",
       "</style>\n",
       "<table border=\"1\" class=\"dataframe\">\n",
       "  <thead>\n",
       "    <tr style=\"text-align: right;\">\n",
       "      <th></th>\n",
       "      <th>feature</th>\n",
       "      <th>missing_count</th>\n",
       "      <th>missing_ratio</th>\n",
       "    </tr>\n",
       "  </thead>\n",
       "  <tbody>\n",
       "    <tr>\n",
       "      <td>40</td>\n",
       "      <td>TITEL_KZ</td>\n",
       "      <td>889061</td>\n",
       "      <td>99.757636</td>\n",
       "    </tr>\n",
       "    <tr>\n",
       "      <td>0</td>\n",
       "      <td>AGER_TYP</td>\n",
       "      <td>685843</td>\n",
       "      <td>76.955435</td>\n",
       "    </tr>\n",
       "    <tr>\n",
       "      <td>47</td>\n",
       "      <td>KK_KUNDENTYP</td>\n",
       "      <td>584612</td>\n",
       "      <td>65.596749</td>\n",
       "    </tr>\n",
       "    <tr>\n",
       "      <td>64</td>\n",
       "      <td>KBA05_BAUMAX</td>\n",
       "      <td>476524</td>\n",
       "      <td>53.468668</td>\n",
       "    </tr>\n",
       "    <tr>\n",
       "      <td>11</td>\n",
       "      <td>GEBURTSJAHR</td>\n",
       "      <td>392318</td>\n",
       "      <td>44.020282</td>\n",
       "    </tr>\n",
       "    <tr>\n",
       "      <td>43</td>\n",
       "      <td>ALTER_HH</td>\n",
       "      <td>310267</td>\n",
       "      <td>34.813699</td>\n",
       "    </tr>\n",
       "    <tr>\n",
       "      <td>70</td>\n",
       "      <td>KKK</td>\n",
       "      <td>158064</td>\n",
       "      <td>17.735668</td>\n",
       "    </tr>\n",
       "    <tr>\n",
       "      <td>73</td>\n",
       "      <td>REGIOTYP</td>\n",
       "      <td>158064</td>\n",
       "      <td>17.735668</td>\n",
       "    </tr>\n",
       "    <tr>\n",
       "      <td>48</td>\n",
       "      <td>W_KEIT_KIND_HH</td>\n",
       "      <td>147988</td>\n",
       "      <td>16.605084</td>\n",
       "    </tr>\n",
       "    <tr>\n",
       "      <td>60</td>\n",
       "      <td>KBA05_ANTG1</td>\n",
       "      <td>133324</td>\n",
       "      <td>14.959701</td>\n",
       "    </tr>\n",
       "  </tbody>\n",
       "</table>\n",
       "</div>"
      ],
      "text/plain": [
       "           feature  missing_count  missing_ratio\n",
       "40        TITEL_KZ         889061      99.757636\n",
       "0         AGER_TYP         685843      76.955435\n",
       "47    KK_KUNDENTYP         584612      65.596749\n",
       "64    KBA05_BAUMAX         476524      53.468668\n",
       "11     GEBURTSJAHR         392318      44.020282\n",
       "43        ALTER_HH         310267      34.813699\n",
       "70             KKK         158064      17.735668\n",
       "73        REGIOTYP         158064      17.735668\n",
       "48  W_KEIT_KIND_HH         147988      16.605084\n",
       "60     KBA05_ANTG1         133324      14.959701"
      ]
     },
     "execution_count": 14,
     "metadata": {},
     "output_type": "execute_result"
    }
   ],
   "source": [
    "# Perform an assessment of how much missing data there is in each column of the\n",
    "# dataset.\n",
    "\n",
    "azdias_missing_status = pd.DataFrame({\"feature\":azdias.isnull().sum().index, \"missing_count\":azdias.isnull().sum().values,\n",
    "                                    \"missing_ratio\":(azdias.isnull().sum().values/len(azdias))*100})\n",
    "\n",
    "\n",
    "# Top10 features based on missing value ratio.\n",
    "azdias_missing_status.sort_values(by=\"missing_ratio\", ascending=False).head(10)"
   ]
  },
  {
   "cell_type": "code",
   "execution_count": 15,
   "metadata": {},
   "outputs": [
    {
     "data": {
      "image/jpeg": "[encoded data removed]"
     },
     "metadata": {},
     "output_type": "display_data"
    }
   ],
   "source": [
    "# Investigate patterns in the amount of missing data in each column.\n",
    "\n",
    "import plotly.graph_objects as go\n",
    "from plotly.subplots import make_subplots\n",
    "\n",
    "index = azdias_missing_status.sort_values(by=\"missing_count\", ascending=False)[\"feature\"].head(30)\n",
    "value = azdias_missing_status.sort_values(by=\"missing_count\", ascending=False)[\"missing_count\"].head(30)\n",
    "\n",
    "fig = go.Figure(data=[go.Bar(x=index, y=value,\n",
    "                hovertext=index)])\n",
    "\n",
    "fig.update_traces(marker_color=\"#D62728\", marker_line_color=\"black\",\n",
    "                  marker_line_width=1.5, opacity=0.65)\n",
    "\n",
    "fig.update_layout(title_text=\"Missing Count\",\n",
    "                  xaxis_title=\"Feature Name\",\n",
    "                  legend_orientation=\"h\",\n",
    "                  yaxis_title=\"Count\",)\n",
    "\n",
    "\n",
    "fig.show(\"jpg\")"
   ]
  },
  {
   "cell_type": "code",
   "execution_count": 16,
   "metadata": {},
   "outputs": [
    {
     "name": "stdout",
     "output_type": "stream",
     "text": [
      "Columns to be dropped are :\n",
      " 0         AGER_TYP\n",
      "11     GEBURTSJAHR\n",
      "40        TITEL_KZ\n",
      "43        ALTER_HH\n",
      "47    KK_KUNDENTYP\n",
      "64    KBA05_BAUMAX\n",
      "Name: feature, dtype: object\n"
     ]
    }
   ],
   "source": [
    "# Remove the outlier columns from the dataset. (You'll perform other data\n",
    "# engineering tasks such as re-encoding and imputation later.)\n",
    "\n",
    "# Drop columns which have missing value ratio >= 30%\n",
    "columns_to_drop = azdias_missing_status[azdias_missing_status[\"missing_ratio\"] >= 30][\"feature\"]\n",
    "print(\"Columns to be dropped are :\\n {}\".format(columns_to_drop))"
   ]
  },
  {
   "cell_type": "code",
   "execution_count": 17,
   "metadata": {},
   "outputs": [],
   "source": [
    "# Drop columns\n",
    "\n",
    "azdias = azdias.drop(columns_to_drop, axis = 1)"
   ]
  },
  {
   "cell_type": "code",
   "execution_count": 18,
   "metadata": {},
   "outputs": [
    {
     "data": {
      "text/plain": [
       "(891221, 79)"
      ]
     },
     "execution_count": 18,
     "metadata": {},
     "output_type": "execute_result"
    }
   ],
   "source": [
    "# Check whether everything is OK\n",
    "\n",
    "azdias.shape"
   ]
  },
  {
   "cell_type": "code",
   "execution_count": 19,
   "metadata": {},
   "outputs": [
    {
     "data": {
      "text/html": [
       "<div>\n",
       "<style scoped>\n",
       "    .dataframe tbody tr th:only-of-type {\n",
       "        vertical-align: middle;\n",
       "    }\n",
       "\n",
       "    .dataframe tbody tr th {\n",
       "        vertical-align: top;\n",
       "    }\n",
       "\n",
       "    .dataframe thead th {\n",
       "        text-align: right;\n",
       "    }\n",
       "</style>\n",
       "<table border=\"1\" class=\"dataframe\">\n",
       "  <thead>\n",
       "    <tr style=\"text-align: right;\">\n",
       "      <th></th>\n",
       "      <th>ALTERSKATEGORIE_GROB</th>\n",
       "      <th>ANREDE_KZ</th>\n",
       "      <th>CJT_GESAMTTYP</th>\n",
       "      <th>FINANZ_MINIMALIST</th>\n",
       "      <th>FINANZ_SPARER</th>\n",
       "      <th>FINANZ_VORSORGER</th>\n",
       "      <th>FINANZ_ANLEGER</th>\n",
       "      <th>FINANZ_UNAUFFAELLIGER</th>\n",
       "      <th>FINANZ_HAUSBAUER</th>\n",
       "      <th>FINANZTYP</th>\n",
       "      <th>...</th>\n",
       "      <th>PLZ8_ANTG1</th>\n",
       "      <th>PLZ8_ANTG2</th>\n",
       "      <th>PLZ8_ANTG3</th>\n",
       "      <th>PLZ8_ANTG4</th>\n",
       "      <th>PLZ8_BAUMAX</th>\n",
       "      <th>PLZ8_HHZ</th>\n",
       "      <th>PLZ8_GBZ</th>\n",
       "      <th>ARBEIT</th>\n",
       "      <th>ORTSGR_KLS9</th>\n",
       "      <th>RELAT_AB</th>\n",
       "    </tr>\n",
       "  </thead>\n",
       "  <tbody>\n",
       "    <tr>\n",
       "      <td>0</td>\n",
       "      <td>2.0</td>\n",
       "      <td>1</td>\n",
       "      <td>2.0</td>\n",
       "      <td>3</td>\n",
       "      <td>4</td>\n",
       "      <td>3</td>\n",
       "      <td>5</td>\n",
       "      <td>5</td>\n",
       "      <td>3</td>\n",
       "      <td>4</td>\n",
       "      <td>...</td>\n",
       "      <td>NaN</td>\n",
       "      <td>NaN</td>\n",
       "      <td>NaN</td>\n",
       "      <td>NaN</td>\n",
       "      <td>NaN</td>\n",
       "      <td>NaN</td>\n",
       "      <td>NaN</td>\n",
       "      <td>NaN</td>\n",
       "      <td>NaN</td>\n",
       "      <td>NaN</td>\n",
       "    </tr>\n",
       "    <tr>\n",
       "      <td>1</td>\n",
       "      <td>1.0</td>\n",
       "      <td>2</td>\n",
       "      <td>5.0</td>\n",
       "      <td>1</td>\n",
       "      <td>5</td>\n",
       "      <td>2</td>\n",
       "      <td>5</td>\n",
       "      <td>4</td>\n",
       "      <td>5</td>\n",
       "      <td>1</td>\n",
       "      <td>...</td>\n",
       "      <td>2.0</td>\n",
       "      <td>3.0</td>\n",
       "      <td>2.0</td>\n",
       "      <td>1.0</td>\n",
       "      <td>1.0</td>\n",
       "      <td>5.0</td>\n",
       "      <td>4.0</td>\n",
       "      <td>3.0</td>\n",
       "      <td>5.0</td>\n",
       "      <td>4.0</td>\n",
       "    </tr>\n",
       "    <tr>\n",
       "      <td>2</td>\n",
       "      <td>3.0</td>\n",
       "      <td>2</td>\n",
       "      <td>3.0</td>\n",
       "      <td>1</td>\n",
       "      <td>4</td>\n",
       "      <td>1</td>\n",
       "      <td>2</td>\n",
       "      <td>3</td>\n",
       "      <td>5</td>\n",
       "      <td>1</td>\n",
       "      <td>...</td>\n",
       "      <td>3.0</td>\n",
       "      <td>3.0</td>\n",
       "      <td>1.0</td>\n",
       "      <td>0.0</td>\n",
       "      <td>1.0</td>\n",
       "      <td>4.0</td>\n",
       "      <td>4.0</td>\n",
       "      <td>3.0</td>\n",
       "      <td>5.0</td>\n",
       "      <td>2.0</td>\n",
       "    </tr>\n",
       "    <tr>\n",
       "      <td>3</td>\n",
       "      <td>4.0</td>\n",
       "      <td>2</td>\n",
       "      <td>2.0</td>\n",
       "      <td>4</td>\n",
       "      <td>2</td>\n",
       "      <td>5</td>\n",
       "      <td>2</td>\n",
       "      <td>1</td>\n",
       "      <td>2</td>\n",
       "      <td>6</td>\n",
       "      <td>...</td>\n",
       "      <td>2.0</td>\n",
       "      <td>2.0</td>\n",
       "      <td>2.0</td>\n",
       "      <td>0.0</td>\n",
       "      <td>1.0</td>\n",
       "      <td>3.0</td>\n",
       "      <td>4.0</td>\n",
       "      <td>2.0</td>\n",
       "      <td>3.0</td>\n",
       "      <td>3.0</td>\n",
       "    </tr>\n",
       "    <tr>\n",
       "      <td>4</td>\n",
       "      <td>3.0</td>\n",
       "      <td>1</td>\n",
       "      <td>5.0</td>\n",
       "      <td>4</td>\n",
       "      <td>3</td>\n",
       "      <td>4</td>\n",
       "      <td>1</td>\n",
       "      <td>3</td>\n",
       "      <td>2</td>\n",
       "      <td>5</td>\n",
       "      <td>...</td>\n",
       "      <td>2.0</td>\n",
       "      <td>4.0</td>\n",
       "      <td>2.0</td>\n",
       "      <td>1.0</td>\n",
       "      <td>2.0</td>\n",
       "      <td>3.0</td>\n",
       "      <td>3.0</td>\n",
       "      <td>4.0</td>\n",
       "      <td>6.0</td>\n",
       "      <td>5.0</td>\n",
       "    </tr>\n",
       "  </tbody>\n",
       "</table>\n",
       "<p>5 rows × 79 columns</p>\n",
       "</div>"
      ],
      "text/plain": [
       "   ALTERSKATEGORIE_GROB  ANREDE_KZ  CJT_GESAMTTYP  FINANZ_MINIMALIST  \\\n",
       "0                   2.0          1            2.0                  3   \n",
       "1                   1.0          2            5.0                  1   \n",
       "2                   3.0          2            3.0                  1   \n",
       "3                   4.0          2            2.0                  4   \n",
       "4                   3.0          1            5.0                  4   \n",
       "\n",
       "   FINANZ_SPARER  FINANZ_VORSORGER  FINANZ_ANLEGER  FINANZ_UNAUFFAELLIGER  \\\n",
       "0              4                 3               5                      5   \n",
       "1              5                 2               5                      4   \n",
       "2              4                 1               2                      3   \n",
       "3              2                 5               2                      1   \n",
       "4              3                 4               1                      3   \n",
       "\n",
       "   FINANZ_HAUSBAUER  FINANZTYP  ...  PLZ8_ANTG1  PLZ8_ANTG2  PLZ8_ANTG3  \\\n",
       "0                 3          4  ...         NaN         NaN         NaN   \n",
       "1                 5          1  ...         2.0         3.0         2.0   \n",
       "2                 5          1  ...         3.0         3.0         1.0   \n",
       "3                 2          6  ...         2.0         2.0         2.0   \n",
       "4                 2          5  ...         2.0         4.0         2.0   \n",
       "\n",
       "   PLZ8_ANTG4  PLZ8_BAUMAX  PLZ8_HHZ  PLZ8_GBZ  ARBEIT  ORTSGR_KLS9  RELAT_AB  \n",
       "0         NaN          NaN       NaN       NaN     NaN          NaN       NaN  \n",
       "1         1.0          1.0       5.0       4.0     3.0          5.0       4.0  \n",
       "2         0.0          1.0       4.0       4.0     3.0          5.0       2.0  \n",
       "3         0.0          1.0       3.0       4.0     2.0          3.0       3.0  \n",
       "4         1.0          2.0       3.0       3.0     4.0          6.0       5.0  \n",
       "\n",
       "[5 rows x 79 columns]"
      ]
     },
     "execution_count": 19,
     "metadata": {},
     "output_type": "execute_result"
    }
   ],
   "source": [
    "azdias.head()"
   ]
  },
  {
   "cell_type": "markdown",
   "metadata": {},
   "source": [
    "#### Discussion 1.1.2: Assess Missing Data in Each Column\n",
    "\n",
    "In order to assess the missing data status of each column, after some preprocessing operations I created a dataframe (\"azdias_missing_status\") that contains each attribute's number of missing value and its proportion. <br>\n",
    "With the help of that dataframe we can easily observe the attribute names which have the missing value most. According to that dataframe; attributes of;\n",
    "\n",
    "- AGER_TYP\n",
    "- GEBURTSJAHR\n",
    "- TITEL_KZ\n",
    "- ALTER_HH\n",
    "- KK_KUNDENTYP\n",
    "- KBA05_BAUMAX\n",
    "\n",
    "have the most missing value ratio.(each have at least 30% missing value and they constitutes 40% of the total missing values of dataset - azdias)<br>\n",
    "\n",
    "After that observations, I decided to 30% missing value ratio as a threshold and then dropped the attributes >30% to limit missing value existence in the dataset - azdias.\n"
   ]
  },
  {
   "cell_type": "markdown",
   "metadata": {},
   "source": [
    "#### Step 1.1.3: Assess Missing Data in Each Row\n",
    "\n",
    "Now, you'll perform a similar assessment for the rows of the dataset. How much data is missing in each row? As with the columns, you should see some groups of points that have a very different numbers of missing values. Divide the data into two subsets: one for data points that are above some threshold for missing values, and a second subset for points below that threshold.\n",
    "\n",
    "In order to know what to do with the outlier rows, we should see if the distribution of data values on columns that are not missing data (or are missing very little data) are similar or different between the two groups. Select at least five of these columns and compare the distribution of values.\n",
    "- You can use seaborn's [`countplot()`](https://seaborn.pydata.org/generated/seaborn.countplot.html) function to create a bar chart of code frequencies and matplotlib's [`subplot()`](https://matplotlib.org/api/_as_gen/matplotlib.pyplot.subplot.html) function to put bar charts for the two subplots side by side.\n",
    "- To reduce repeated code, you might want to write a function that can perform this comparison, taking as one of its arguments a column to be compared.\n",
    "\n",
    "Depending on what you observe in your comparison, this will have implications on how you approach your conclusions later in the analysis. If the distributions of non-missing features look similar between the data with many missing values and the data with few or no missing values, then we could argue that simply dropping those points from the analysis won't present a major issue. On the other hand, if the data with many missing values looks very different from the data with few or no missing values, then we should make a note on those data as special. We'll revisit these data later on. **Either way, you should continue your analysis for now using just the subset of the data with few or no missing values.**"
   ]
  },
  {
   "cell_type": "code",
   "execution_count": 20,
   "metadata": {},
   "outputs": [
    {
     "data": {
      "text/html": [
       "<div>\n",
       "<style scoped>\n",
       "    .dataframe tbody tr th:only-of-type {\n",
       "        vertical-align: middle;\n",
       "    }\n",
       "\n",
       "    .dataframe tbody tr th {\n",
       "        vertical-align: top;\n",
       "    }\n",
       "\n",
       "    .dataframe thead th {\n",
       "        text-align: right;\n",
       "    }\n",
       "</style>\n",
       "<table border=\"1\" class=\"dataframe\">\n",
       "  <thead>\n",
       "    <tr style=\"text-align: right;\">\n",
       "      <th></th>\n",
       "      <th>row_no</th>\n",
       "      <th>missing_count</th>\n",
       "    </tr>\n",
       "  </thead>\n",
       "  <tbody>\n",
       "    <tr>\n",
       "      <td>732775</td>\n",
       "      <td>732775</td>\n",
       "      <td>49</td>\n",
       "    </tr>\n",
       "    <tr>\n",
       "      <td>643174</td>\n",
       "      <td>643174</td>\n",
       "      <td>49</td>\n",
       "    </tr>\n",
       "    <tr>\n",
       "      <td>472919</td>\n",
       "      <td>472919</td>\n",
       "      <td>48</td>\n",
       "    </tr>\n",
       "    <tr>\n",
       "      <td>345274</td>\n",
       "      <td>345274</td>\n",
       "      <td>47</td>\n",
       "    </tr>\n",
       "    <tr>\n",
       "      <td>299868</td>\n",
       "      <td>299868</td>\n",
       "      <td>47</td>\n",
       "    </tr>\n",
       "    <tr>\n",
       "      <td>582092</td>\n",
       "      <td>582092</td>\n",
       "      <td>47</td>\n",
       "    </tr>\n",
       "    <tr>\n",
       "      <td>681255</td>\n",
       "      <td>681255</td>\n",
       "      <td>47</td>\n",
       "    </tr>\n",
       "    <tr>\n",
       "      <td>818343</td>\n",
       "      <td>818343</td>\n",
       "      <td>47</td>\n",
       "    </tr>\n",
       "    <tr>\n",
       "      <td>582109</td>\n",
       "      <td>582109</td>\n",
       "      <td>47</td>\n",
       "    </tr>\n",
       "    <tr>\n",
       "      <td>439981</td>\n",
       "      <td>439981</td>\n",
       "      <td>47</td>\n",
       "    </tr>\n",
       "  </tbody>\n",
       "</table>\n",
       "</div>"
      ],
      "text/plain": [
       "        row_no  missing_count\n",
       "732775  732775             49\n",
       "643174  643174             49\n",
       "472919  472919             48\n",
       "345274  345274             47\n",
       "299868  299868             47\n",
       "582092  582092             47\n",
       "681255  681255             47\n",
       "818343  818343             47\n",
       "582109  582109             47\n",
       "439981  439981             47"
      ]
     },
     "execution_count": 20,
     "metadata": {},
     "output_type": "execute_result"
    }
   ],
   "source": [
    "# How much data is missing in each row of the dataset\n",
    "\n",
    "azdias_missing_status_row = pd.DataFrame({\"row_no\":azdias.isnull().sum(axis=1).index, \"missing_count\":azdias.isnull().sum(axis=1).values})\n",
    "\n",
    "\n",
    "# Top10 rows based on missing value count\n",
    "azdias_missing_status_row.sort_values(by=\"missing_count\", ascending=False).head(10)"
   ]
  },
  {
   "cell_type": "code",
   "execution_count": 21,
   "metadata": {},
   "outputs": [
    {
     "data": {
      "image/png": "[encoded data removed]",
      "text/plain": [
       "<Figure size 432x288 with 1 Axes>"
      ]
     },
     "metadata": {
      "needs_background": "light"
     },
     "output_type": "display_data"
    }
   ],
   "source": [
    "# Distribution of missing values of rows.\n",
    "\n",
    "plt.hist(azdias.isnull().sum(axis=1));"
   ]
  },
  {
   "cell_type": "markdown",
   "metadata": {},
   "source": [
    "### According to the graph above, the data can be splittable by 25 as it's distributed between [0, 20] and [30, 50]"
   ]
  },
  {
   "cell_type": "code",
   "execution_count": 22,
   "metadata": {},
   "outputs": [
    {
     "name": "stdout",
     "output_type": "stream",
     "text": [
      "Number of rows with below 25 missing values: 797961 (89.54%)\n",
      "Number of rows with above 25 missing values: 93260 (10.46%)\n"
     ]
    }
   ],
   "source": [
    "# Write code to divide the data into two subsets based on the number of missing\n",
    "# values in each row.\n",
    "\n",
    "df_above25 = azdias[azdias.isnull().sum(axis=1) > 25]\n",
    "df_below25 = azdias[azdias.isnull().sum(axis=1) <= 25]\n",
    "\n",
    "print(\"Number of rows with below 25 missing values: %i (%.2f%%)\" % (df_below25.shape[0], (df_below25.shape[0]/azdias.shape[0])*100))\n",
    "print(\"Number of rows with above 25 missing values: %i (%.2f%%)\" % (df_above25.shape[0], (df_above25.shape[0]/azdias.shape[0])*100))"
   ]
  },
  {
   "cell_type": "code",
   "execution_count": 23,
   "metadata": {},
   "outputs": [],
   "source": [
    "# Graph function which will be used to compare the distribution of missing values for the selected columns.\n",
    "\n",
    "def compare_dist(data_above25, data_below25, column):\n",
    "\n",
    "    plt.figure(figsize=(14,4))   \n",
    "    ax1 = plt.subplot(121)\n",
    "    ax1.title.set_text('Above 25 missing values')\n",
    "    sns.countplot(data_above25[column])\n",
    "\n",
    "    ax2 = plt.subplot(122)\n",
    "    ax2.title.set_text('Below 25 missing values')\n",
    "    sns.countplot(data_below25[column])\n",
    "\n",
    "    plt.suptitle(column)\n",
    "    plt.show()"
   ]
  },
  {
   "cell_type": "code",
   "execution_count": 24,
   "metadata": {},
   "outputs": [
    {
     "data": {
      "image/png": "[encoded data removed]",
      "text/plain": [
       "<Figure size 1008x288 with 2 Axes>"
      ]
     },
     "metadata": {
      "needs_background": "light"
     },
     "output_type": "display_data"
    },
    {
     "data": {
      "image/png": "[encoded data removed]",
      "text/plain": [
       "<Figure size 1008x288 with 2 Axes>"
      ]
     },
     "metadata": {
      "needs_background": "light"
     },
     "output_type": "display_data"
    },
    {
     "data": {
      "image/png": "[encoded data removed]",
      "text/plain": [
       "<Figure size 1008x288 with 2 Axes>"
      ]
     },
     "metadata": {
      "needs_background": "light"
     },
     "output_type": "display_data"
    },
    {
     "data": {
      "image/png": "[encoded data removed]",
      "text/plain": [
       "<Figure size 1008x288 with 2 Axes>"
      ]
     },
     "metadata": {
      "needs_background": "light"
     },
     "output_type": "display_data"
    },
    {
     "data": {
      "image/png": "[encoded data removed]",
      "text/plain": [
       "<Figure size 1008x288 with 2 Axes>"
      ]
     },
     "metadata": {
      "needs_background": "light"
     },
     "output_type": "display_data"
    }
   ],
   "source": [
    "# Compare the distribution of values for at least five columns where there are\n",
    "# no or few missing values, between the two subsets.\n",
    "\n",
    "import random\n",
    "smallest30 = azdias.isnull().sum().sort_values(ascending=True)[:30]\n",
    "random.seed(0) # for reproducibility\n",
    "smallest_5 = random.sample(list(smallest30.axes[0]), 5)\n",
    "for column in smallest_5:\n",
    "    compare_dist(df_above25, df_below25, column)"
   ]
  },
  {
   "cell_type": "markdown",
   "metadata": {},
   "source": [
    "#### Discussion 1.1.3: Assess Missing Data in Each Row\n",
    "\n",
    "\n",
    "In this chapter, I selected randomly 5 columns with no or few missing values and plotted them with 2 subset which are \n",
    "\n",
    "- Subset 1 - Rows with below 25 missing values \n",
    "- Subset 2 - Rows with above 25 missing values\n",
    "\n",
    "According to the graphs above, we can easily observe that the distribution of subsets are different than each other and some attributes have significant bias in the \"Subset 2 - Rows with above 25 missing values\". Since the Subset 2 constitutes only 10% of the data and have bias, I decided to going further with only \"Subset 1 - Rows with below 25 missing values.\"\n",
    "\n",
    "*The subsets have been created based on the distribution of missing values of rows.\n"
   ]
  },
  {
   "cell_type": "markdown",
   "metadata": {},
   "source": [
    "### Step 1.2: Select and Re-Encode Features\n",
    "\n",
    "Checking for missing data isn't the only way in which you can prepare a dataset for analysis. Since the unsupervised learning techniques to be used will only work on data that is encoded numerically, you need to make a few encoding changes or additional assumptions to be able to make progress. In addition, while almost all of the values in the dataset are encoded using numbers, not all of them represent numeric values. Check the third column of the feature summary (`feat_info`) for a summary of types of measurement.\n",
    "- For numeric and interval data, these features can be kept without changes.\n",
    "- Most of the variables in the dataset are ordinal in nature. While ordinal values may technically be non-linear in spacing, make the simplifying assumption that the ordinal variables can be treated as being interval in nature (that is, kept without any changes).\n",
    "- Special handling may be necessary for the remaining two variable types: categorical, and 'mixed'.\n",
    "\n",
    "In the first two parts of this sub-step, you will perform an investigation of the categorical and mixed-type features and make a decision on each of them, whether you will keep, drop, or re-encode each. Then, in the last part, you will create a new data frame with only the selected and engineered columns.\n",
    "\n",
    "Data wrangling is often the trickiest part of the data analysis process, and there's a lot of it to be done here. But stick with it: once you're done with this step, you'll be ready to get to the machine learning parts of the project!"
   ]
  },
  {
   "cell_type": "code",
   "execution_count": 25,
   "metadata": {},
   "outputs": [
    {
     "data": {
      "text/plain": [
       "type\n",
       "ordinal        49\n",
       "categorical    18\n",
       "numeric         6\n",
       "mixed           6\n",
       "Name: attribute, dtype: int64"
      ]
     },
     "execution_count": 25,
     "metadata": {},
     "output_type": "execute_result"
    },
    {
     "data": {
      "image/png": "[encoded data removed]",
      "text/plain": [
       "<Figure size 720x360 with 1 Axes>"
      ]
     },
     "metadata": {
      "needs_background": "light"
     },
     "output_type": "display_data"
    }
   ],
   "source": [
    "# How many features are there of each data type?\n",
    "\n",
    "# Delete outlier features by using columns_to_drop data\n",
    "feat_info = feat_info.drop(columns_to_drop.axes[0], axis = 0)\n",
    "# Plot\n",
    "feat_info.groupby('type')['attribute'].count().plot(kind='bar', figsize=(10,5))\n",
    "# Data table\n",
    "feat_info.groupby('type')['attribute'].count().sort_values(ascending=False)"
   ]
  },
  {
   "cell_type": "markdown",
   "metadata": {},
   "source": [
    "#### Step 1.2.1: Re-Encode Categorical Features\n",
    "\n",
    "For categorical data, you would ordinarily need to encode the levels as dummy variables. Depending on the number of categories, perform one of the following:\n",
    "- For binary (two-level) categoricals that take numeric values, you can keep them without needing to do anything.\n",
    "- There is one binary variable that takes on non-numeric values. For this one, you need to re-encode the values as numbers or create a dummy variable.\n",
    "- For multi-level categoricals (three or more values), you can choose to encode the values using multiple dummy variables (e.g. via [OneHotEncoder](http://scikit-learn.org/stable/modules/generated/sklearn.preprocessing.OneHotEncoder.html)), or (to keep things straightforward) just drop them from the analysis. As always, document your choices in the Discussion section."
   ]
  },
  {
   "cell_type": "code",
   "execution_count": 26,
   "metadata": {},
   "outputs": [],
   "source": [
    "# Assess categorical variables: which are binary, which are multi-level, and\n",
    "# which one needs to be re-encoded?\n",
    "\n",
    "cat_type_dict = {}\n",
    "cat_feat = feat_info[feat_info[\"type\"] == \"categorical\"][\"attribute\"]\n",
    "for attr in cat_feat:\n",
    "    if df_below25[attr].nunique() == 2:\n",
    "        if type(df_below25[attr].iloc[0]) == str:\n",
    "            cat_type_dict[attr] = 'non-numeric binary'\n",
    "        else:\n",
    "            cat_type_dict[attr] = 'binary'\n",
    "    else:\n",
    "        cat_type_dict[attr] = 'multi-level'"
   ]
  },
  {
   "cell_type": "code",
   "execution_count": 27,
   "metadata": {},
   "outputs": [
    {
     "name": "stdout",
     "output_type": "stream",
     "text": [
      "ANREDE_KZ         binary\n",
      "CJT_GESAMTTYP     multi-level\n",
      "FINANZTYP         multi-level\n",
      "GFK_URLAUBERTYP   multi-level\n",
      "GREEN_AVANTGARDE  binary\n",
      "LP_FAMILIE_FEIN   multi-level\n",
      "LP_FAMILIE_GROB   multi-level\n",
      "LP_STATUS_FEIN    multi-level\n",
      "LP_STATUS_GROB    multi-level\n",
      "NATIONALITAET_KZ  multi-level\n",
      "SHOPPER_TYP       multi-level\n",
      "SOHO_KZ           binary\n",
      "VERS_TYP          binary\n",
      "ZABEOTYP          multi-level\n",
      "GEBAEUDETYP       multi-level\n",
      "OST_WEST_KZ       non-numeric binary\n",
      "CAMEO_DEUG_2015   multi-level\n",
      "CAMEO_DEU_2015    multi-level\n"
     ]
    }
   ],
   "source": [
    "for key in cat_type_dict:\n",
    "    print(\"%-18s%s\" % (key, cat_type_dict[key]))"
   ]
  },
  {
   "cell_type": "code",
   "execution_count": 28,
   "metadata": {},
   "outputs": [
    {
     "name": "stderr",
     "output_type": "stream",
     "text": [
      "/Users/evrenermis/opt/anaconda3/lib/python3.7/site-packages/ipykernel_launcher.py:3: SettingWithCopyWarning:\n",
      "\n",
      "\n",
      "A value is trying to be set on a copy of a slice from a DataFrame.\n",
      "Try using .loc[row_indexer,col_indexer] = value instead\n",
      "\n",
      "See the caveats in the documentation: http://pandas.pydata.org/pandas-docs/stable/user_guide/indexing.html#returning-a-view-versus-a-copy\n",
      "\n"
     ]
    },
    {
     "data": {
      "text/plain": [
       "1    629433\n",
       "0    168528\n",
       "Name: OST_WEST_KZ, dtype: int64"
      ]
     },
     "execution_count": 28,
     "metadata": {},
     "output_type": "execute_result"
    }
   ],
   "source": [
    "# Convert OST_WEST_KZ from non-numeric binary to binary\n",
    "\n",
    "df_below25[\"OST_WEST_KZ\"] = df_below25[\"OST_WEST_KZ\"].replace([\"W\", \"O\"], [1, 0])\n",
    "\n",
    "# Validation\n",
    "df_below25[\"OST_WEST_KZ\"].value_counts()"
   ]
  },
  {
   "cell_type": "code",
   "execution_count": 29,
   "metadata": {},
   "outputs": [],
   "source": [
    "# Create one-hot encoding for multi-level categories\n",
    "\n",
    "df_below25 = pd.get_dummies(df_below25, columns=[i for i in cat_type_dict if cat_type_dict[i]==\"multi-level\"])"
   ]
  },
  {
   "cell_type": "code",
   "execution_count": 30,
   "metadata": {},
   "outputs": [
    {
     "data": {
      "text/plain": [
       "(797961, 194)"
      ]
     },
     "execution_count": 30,
     "metadata": {},
     "output_type": "execute_result"
    }
   ],
   "source": [
    "# Validation - 1\n",
    "\n",
    "df_below25.shape"
   ]
  },
  {
   "cell_type": "code",
   "execution_count": 31,
   "metadata": {},
   "outputs": [
    {
     "data": {
      "text/html": [
       "<div>\n",
       "<style scoped>\n",
       "    .dataframe tbody tr th:only-of-type {\n",
       "        vertical-align: middle;\n",
       "    }\n",
       "\n",
       "    .dataframe tbody tr th {\n",
       "        vertical-align: top;\n",
       "    }\n",
       "\n",
       "    .dataframe thead th {\n",
       "        text-align: right;\n",
       "    }\n",
       "</style>\n",
       "<table border=\"1\" class=\"dataframe\">\n",
       "  <thead>\n",
       "    <tr style=\"text-align: right;\">\n",
       "      <th></th>\n",
       "      <th>ALTERSKATEGORIE_GROB</th>\n",
       "      <th>ANREDE_KZ</th>\n",
       "      <th>FINANZ_MINIMALIST</th>\n",
       "      <th>FINANZ_SPARER</th>\n",
       "      <th>FINANZ_VORSORGER</th>\n",
       "      <th>FINANZ_ANLEGER</th>\n",
       "      <th>FINANZ_UNAUFFAELLIGER</th>\n",
       "      <th>FINANZ_HAUSBAUER</th>\n",
       "      <th>GREEN_AVANTGARDE</th>\n",
       "      <th>HEALTH_TYP</th>\n",
       "      <th>...</th>\n",
       "      <th>CAMEO_DEU_2015_7E</th>\n",
       "      <th>CAMEO_DEU_2015_8A</th>\n",
       "      <th>CAMEO_DEU_2015_8B</th>\n",
       "      <th>CAMEO_DEU_2015_8C</th>\n",
       "      <th>CAMEO_DEU_2015_8D</th>\n",
       "      <th>CAMEO_DEU_2015_9A</th>\n",
       "      <th>CAMEO_DEU_2015_9B</th>\n",
       "      <th>CAMEO_DEU_2015_9C</th>\n",
       "      <th>CAMEO_DEU_2015_9D</th>\n",
       "      <th>CAMEO_DEU_2015_9E</th>\n",
       "    </tr>\n",
       "  </thead>\n",
       "  <tbody>\n",
       "    <tr>\n",
       "      <td>1</td>\n",
       "      <td>1.0</td>\n",
       "      <td>2</td>\n",
       "      <td>1</td>\n",
       "      <td>5</td>\n",
       "      <td>2</td>\n",
       "      <td>5</td>\n",
       "      <td>4</td>\n",
       "      <td>5</td>\n",
       "      <td>0</td>\n",
       "      <td>3.0</td>\n",
       "      <td>...</td>\n",
       "      <td>0</td>\n",
       "      <td>1</td>\n",
       "      <td>0</td>\n",
       "      <td>0</td>\n",
       "      <td>0</td>\n",
       "      <td>0</td>\n",
       "      <td>0</td>\n",
       "      <td>0</td>\n",
       "      <td>0</td>\n",
       "      <td>0</td>\n",
       "    </tr>\n",
       "    <tr>\n",
       "      <td>2</td>\n",
       "      <td>3.0</td>\n",
       "      <td>2</td>\n",
       "      <td>1</td>\n",
       "      <td>4</td>\n",
       "      <td>1</td>\n",
       "      <td>2</td>\n",
       "      <td>3</td>\n",
       "      <td>5</td>\n",
       "      <td>1</td>\n",
       "      <td>3.0</td>\n",
       "      <td>...</td>\n",
       "      <td>0</td>\n",
       "      <td>0</td>\n",
       "      <td>0</td>\n",
       "      <td>0</td>\n",
       "      <td>0</td>\n",
       "      <td>0</td>\n",
       "      <td>0</td>\n",
       "      <td>0</td>\n",
       "      <td>0</td>\n",
       "      <td>0</td>\n",
       "    </tr>\n",
       "    <tr>\n",
       "      <td>3</td>\n",
       "      <td>4.0</td>\n",
       "      <td>2</td>\n",
       "      <td>4</td>\n",
       "      <td>2</td>\n",
       "      <td>5</td>\n",
       "      <td>2</td>\n",
       "      <td>1</td>\n",
       "      <td>2</td>\n",
       "      <td>0</td>\n",
       "      <td>2.0</td>\n",
       "      <td>...</td>\n",
       "      <td>0</td>\n",
       "      <td>0</td>\n",
       "      <td>0</td>\n",
       "      <td>0</td>\n",
       "      <td>0</td>\n",
       "      <td>0</td>\n",
       "      <td>0</td>\n",
       "      <td>0</td>\n",
       "      <td>0</td>\n",
       "      <td>0</td>\n",
       "    </tr>\n",
       "    <tr>\n",
       "      <td>4</td>\n",
       "      <td>3.0</td>\n",
       "      <td>1</td>\n",
       "      <td>4</td>\n",
       "      <td>3</td>\n",
       "      <td>4</td>\n",
       "      <td>1</td>\n",
       "      <td>3</td>\n",
       "      <td>2</td>\n",
       "      <td>0</td>\n",
       "      <td>3.0</td>\n",
       "      <td>...</td>\n",
       "      <td>0</td>\n",
       "      <td>0</td>\n",
       "      <td>0</td>\n",
       "      <td>0</td>\n",
       "      <td>0</td>\n",
       "      <td>0</td>\n",
       "      <td>0</td>\n",
       "      <td>0</td>\n",
       "      <td>0</td>\n",
       "      <td>0</td>\n",
       "    </tr>\n",
       "    <tr>\n",
       "      <td>5</td>\n",
       "      <td>1.0</td>\n",
       "      <td>2</td>\n",
       "      <td>3</td>\n",
       "      <td>1</td>\n",
       "      <td>5</td>\n",
       "      <td>2</td>\n",
       "      <td>2</td>\n",
       "      <td>5</td>\n",
       "      <td>0</td>\n",
       "      <td>3.0</td>\n",
       "      <td>...</td>\n",
       "      <td>0</td>\n",
       "      <td>0</td>\n",
       "      <td>0</td>\n",
       "      <td>1</td>\n",
       "      <td>0</td>\n",
       "      <td>0</td>\n",
       "      <td>0</td>\n",
       "      <td>0</td>\n",
       "      <td>0</td>\n",
       "      <td>0</td>\n",
       "    </tr>\n",
       "  </tbody>\n",
       "</table>\n",
       "<p>5 rows × 194 columns</p>\n",
       "</div>"
      ],
      "text/plain": [
       "   ALTERSKATEGORIE_GROB  ANREDE_KZ  FINANZ_MINIMALIST  FINANZ_SPARER  \\\n",
       "1                   1.0          2                  1              5   \n",
       "2                   3.0          2                  1              4   \n",
       "3                   4.0          2                  4              2   \n",
       "4                   3.0          1                  4              3   \n",
       "5                   1.0          2                  3              1   \n",
       "\n",
       "   FINANZ_VORSORGER  FINANZ_ANLEGER  FINANZ_UNAUFFAELLIGER  FINANZ_HAUSBAUER  \\\n",
       "1                 2               5                      4                 5   \n",
       "2                 1               2                      3                 5   \n",
       "3                 5               2                      1                 2   \n",
       "4                 4               1                      3                 2   \n",
       "5                 5               2                      2                 5   \n",
       "\n",
       "   GREEN_AVANTGARDE  HEALTH_TYP  ...  CAMEO_DEU_2015_7E  CAMEO_DEU_2015_8A  \\\n",
       "1                 0         3.0  ...                  0                  1   \n",
       "2                 1         3.0  ...                  0                  0   \n",
       "3                 0         2.0  ...                  0                  0   \n",
       "4                 0         3.0  ...                  0                  0   \n",
       "5                 0         3.0  ...                  0                  0   \n",
       "\n",
       "   CAMEO_DEU_2015_8B  CAMEO_DEU_2015_8C  CAMEO_DEU_2015_8D  CAMEO_DEU_2015_9A  \\\n",
       "1                  0                  0                  0                  0   \n",
       "2                  0                  0                  0                  0   \n",
       "3                  0                  0                  0                  0   \n",
       "4                  0                  0                  0                  0   \n",
       "5                  0                  1                  0                  0   \n",
       "\n",
       "   CAMEO_DEU_2015_9B  CAMEO_DEU_2015_9C  CAMEO_DEU_2015_9D  CAMEO_DEU_2015_9E  \n",
       "1                  0                  0                  0                  0  \n",
       "2                  0                  0                  0                  0  \n",
       "3                  0                  0                  0                  0  \n",
       "4                  0                  0                  0                  0  \n",
       "5                  0                  0                  0                  0  \n",
       "\n",
       "[5 rows x 194 columns]"
      ]
     },
     "execution_count": 31,
     "metadata": {},
     "output_type": "execute_result"
    }
   ],
   "source": [
    "# Validation - 2\n",
    "\n",
    "df_below25.head()"
   ]
  },
  {
   "cell_type": "markdown",
   "metadata": {},
   "source": [
    "#### Discussion 1.2.1: Re-Encode Categorical Features\n",
    "\n",
    "I analyzed the data type status of the feat_info dataset and found 18 categorical attributes in it. After that I tried to perform the required operations; \n",
    "\n",
    "1. Numerical and ordinal data types left as they were. \n",
    "2. Categorical data types have been tagged as \"binary\", \"nun-numeric binary\" and \"multi-level\".\n",
    "3. The only non-numerical binary column, OST_WEST_KZ, has been converted to numerical binary.\n",
    "4. For the multi-level categorical data, one-hot encoding has been set in order to avoid dropping them since I have deleted lot of data priorly.\n"
   ]
  },
  {
   "cell_type": "markdown",
   "metadata": {},
   "source": [
    "#### Step 1.2.2: Engineer Mixed-Type Features\n",
    "\n",
    "There are a handful of features that are marked as \"mixed\" in the feature summary that require special treatment in order to be included in the analysis. There are two in particular that deserve attention; the handling of the rest are up to your own choices:\n",
    "- \"PRAEGENDE_JUGENDJAHRE\" combines information on three dimensions: generation by decade, movement (mainstream vs. avantgarde), and nation (east vs. west). While there aren't enough levels to disentangle east from west, you should create two new variables to capture the other two dimensions: an interval-type variable for decade, and a binary variable for movement.\n",
    "- \"CAMEO_INTL_2015\" combines information on two axes: wealth and life stage. Break up the two-digit codes by their 'tens'-place and 'ones'-place digits into two new ordinal variables (which, for the purposes of this project, is equivalent to just treating them as their raw numeric values).\n",
    "- If you decide to keep or engineer new features around the other mixed-type features, make sure you note your steps in the Discussion section.\n",
    "\n",
    "Be sure to check `Data_Dictionary.md` for the details needed to finish these tasks."
   ]
  },
  {
   "cell_type": "code",
   "execution_count": 32,
   "metadata": {},
   "outputs": [],
   "source": [
    "# Investigate \"PRAEGENDE_JUGENDJAHRE\" and engineer two new variables.\n",
    "\n",
    "### 1.18. PRAEGENDE_JUGENDJAHRE - Data Dictionary Information\n",
    "#Dominating movement of person's youth (avantgarde vs. mainstream; east vs. west)\n",
    "#- -1: unknown\n",
    "#-  0: unknown\n",
    "#-  1: 40s - war years (Mainstream, E+W)\n",
    "#-  2: 40s - reconstruction years (Avantgarde, E+W)\n",
    "#-  3: 50s - economic miracle (Mainstream, E+W)\n",
    "#-  4: 50s - milk bar / Individualisation (Avantgarde, E+W)\n",
    "#-  5: 60s - economic miracle (Mainstream, E+W)\n",
    "#-  6: 60s - generation 68 / student protestors (Avantgarde, W)\n",
    "#-  7: 60s - opponents to the building of the Wall (Avantgarde, E)\n",
    "#-  8: 70s - family orientation (Mainstream, E+W)\n",
    "#-  9: 70s - peace movement (Avantgarde, E+W)\n",
    "#- 10: 80s - Generation Golf (Mainstream, W)\n",
    "#- 11: 80s - ecological awareness (Avantgarde, W)\n",
    "#- 12: 80s - FDJ / communist party youth organisation (Mainstream, E)\n",
    "#- 13: 80s - Swords into ploughshares (Avantgarde, E)\n",
    "#- 14: 90s - digital media kids (Mainstream, E+W)\n",
    "#- 15: 90s - ecological awareness (Avantgarde, E+W)\n",
    "\n",
    "# Create Decade and Movement columns\n",
    "df_below25[\"DECADE\"]= df_below25[\"PRAEGENDE_JUGENDJAHRE\"]\n",
    "df_below25[\"MOVEMENT\"]= df_below25[\"PRAEGENDE_JUGENDJAHRE\"]\n",
    "\n",
    "# Decade dictionary: \n",
    "# 1->40s , 2->50s , 3->60s , 4->70 , 5->80 , 6->90\n",
    "decade_dic = {1:1,2:1,3:2,4:2,5:3,6:3,7:3,8:4,9:4,10:5,11:5,12:5,13:5,14:6,15:6}\n",
    "\n",
    "# Mainstream / Avantgarde dictionary : 1 -> mainstream , 0 -> avantgarde\n",
    "# Mainstream -> 1: dictionaries [1,3,5,8,10,12,14]\n",
    "# Avantgarte -> 0: dictionaries [2,4,6,7,9,11,13,15]\n",
    "movement_dic = {1:1,2:0,3:1,4:0,5:1,6:0,7:0,8:1,9:0,10:1,11:0,12:1,13:0,14:1,15:0}\n",
    "\n",
    "# Update columns based on created dictionaries.\n",
    "df_below25[\"DECADE\"].replace(decade_dic, inplace=True)\n",
    "df_below25[\"MOVEMENT\"].replace(movement_dic, inplace=True)"
   ]
  },
  {
   "cell_type": "code",
   "execution_count": 33,
   "metadata": {},
   "outputs": [],
   "source": [
    "# Investigate \"CAMEO_INTL_2015\" and engineer two new variables.\n",
    "\n",
    "### 4.3. CAMEO_INTL_2015 - Data Dictionary Information\n",
    "#German CAMEO: Wealth / Life Stage Typology, mapped to international code\n",
    "#- -1: unknown\n",
    "#- 11: Wealthy Households - Pre-Family Couples & Singles\n",
    "#- 12: Wealthy Households - Young Couples With Children\n",
    "#- 13: Wealthy Households - Families With School Age Children\n",
    "#- 14: Wealthy Households - Older Families &  Mature Couples\n",
    "#- 15: Wealthy Households - Elders In Retirement\n",
    "#- 21: Prosperous Households - Pre-Family Couples & Singles\n",
    "#- 22: Prosperous Households - Young Couples With Children\n",
    "#- 23: Prosperous Households - Families With School Age Children\n",
    "#- 24: Prosperous Households - Older Families & Mature Couples\n",
    "#- 25: Prosperous Households - Elders In Retirement\n",
    "#- 31: Comfortable Households - Pre-Family Couples & Singles\n",
    "#- 32: Comfortable Households - Young Couples With Children\n",
    "#- 33: Comfortable Households - Families With School Age Children\n",
    "#- 34: Comfortable Households - Older Families & Mature Couples\n",
    "#- 35: Comfortable Households - Elders In Retirement\n",
    "#- 41: Less Affluent Households - Pre-Family Couples & Singles\n",
    "#- 42: Less Affluent Households - Young Couples With Children\n",
    "#- 43: Less Affluent Households - Families With School Age Children\n",
    "#- 44: Less Affluent Households - Older Families & Mature Couples\n",
    "#- 45: Less Affluent Households - Elders In Retirement\n",
    "#- 51: Poorer Households - Pre-Family Couples & Singles\n",
    "#- 52: Poorer Households - Young Couples With Children\n",
    "#- 53: Poorer Households - Families With School Age Children\n",
    "#- 54: Poorer Households - Older Families & Mature Couples\n",
    "#- 55: Poorer Households - Elders In Retirement\n",
    "#- XX: unknown\n",
    "\n",
    "# Create Wealth and Life Stage columns\n",
    "df_below25[\"WEALTH\"]= df_below25[\"CAMEO_INTL_2015\"]\n",
    "df_below25[\"LIFE_STAGE\"]= df_below25[\"CAMEO_INTL_2015\"]\n",
    "\n",
    "# Wealth dictionary: \n",
    "#1-> Wealthy (1*), 2-> Prosperous(2*), 3-> Comfortable(3*), 4-> Less Affluent(4*), 5-> Poorer(5*).\n",
    "wealth_dic = {\"11\":1,\"12\":1,\"13\":1,\"14\":1,\"15\":1,\"21\":2,\"22\":2,\"23\":2,\"24\":2,\"25\":2,\"31\":3,\"32\":3,\"33\":3,\"34\":3,\n",
    "              \"35\":3,\"41\":4,\"42\":4,\"43\":4,\"44\":4,\"45\":4,\"51\":5,\"52\":5,\"53\":5,\"54\":5,\"55\":5}\n",
    "\n",
    "# Life stage dictionary:\n",
    "# 1-> Pre-Family Couples & Singles (*1), 2~> Young Couples With Children (*2), \n",
    "# 3-> Families With School Age Children(*3), 4-> Older Families &  Mature Couples (*4), \n",
    "# 5-> Elders In Retirement (*5)\n",
    "life_stage_dic={\"11\":1,\"21\":1,\"31\":1,\"41\":1,\"51\":1,\"12\":2,\"22\":2,\"32\":2,\"42\":2,\"52\":2,\"13\":3,\"23\":3,\"33\":3,\"43\":3,\n",
    "                \"53\":3,\"14\":4,\"24\":4,\"34\":4,\"44\":4,\"54\":4,\"15\":5,\"25\":5,\"35\":5,\"45\":5,\"55\":5}\n",
    "\n",
    "#Update the new columns with specific values\n",
    "df_below25[\"WEALTH\"].replace(wealth_dic, inplace=True)\n",
    "df_below25[\"LIFE_STAGE\"].replace(life_stage_dic, inplace=True)\n"
   ]
  },
  {
   "cell_type": "code",
   "execution_count": 34,
   "metadata": {},
   "outputs": [
    {
     "data": {
      "text/plain": [
       "(797961, 198)"
      ]
     },
     "execution_count": 34,
     "metadata": {},
     "output_type": "execute_result"
    }
   ],
   "source": [
    "# Validation - 1\n",
    "\n",
    "df_below25.shape  # 4 new columns added."
   ]
  },
  {
   "cell_type": "code",
   "execution_count": 35,
   "metadata": {},
   "outputs": [
    {
     "data": {
      "text/html": [
       "<div>\n",
       "<style scoped>\n",
       "    .dataframe tbody tr th:only-of-type {\n",
       "        vertical-align: middle;\n",
       "    }\n",
       "\n",
       "    .dataframe tbody tr th {\n",
       "        vertical-align: top;\n",
       "    }\n",
       "\n",
       "    .dataframe thead th {\n",
       "        text-align: right;\n",
       "    }\n",
       "</style>\n",
       "<table border=\"1\" class=\"dataframe\">\n",
       "  <thead>\n",
       "    <tr style=\"text-align: right;\">\n",
       "      <th></th>\n",
       "      <th>ALTERSKATEGORIE_GROB</th>\n",
       "      <th>ANREDE_KZ</th>\n",
       "      <th>FINANZ_MINIMALIST</th>\n",
       "      <th>FINANZ_SPARER</th>\n",
       "      <th>FINANZ_VORSORGER</th>\n",
       "      <th>FINANZ_ANLEGER</th>\n",
       "      <th>FINANZ_UNAUFFAELLIGER</th>\n",
       "      <th>FINANZ_HAUSBAUER</th>\n",
       "      <th>GREEN_AVANTGARDE</th>\n",
       "      <th>HEALTH_TYP</th>\n",
       "      <th>...</th>\n",
       "      <th>CAMEO_DEU_2015_8D</th>\n",
       "      <th>CAMEO_DEU_2015_9A</th>\n",
       "      <th>CAMEO_DEU_2015_9B</th>\n",
       "      <th>CAMEO_DEU_2015_9C</th>\n",
       "      <th>CAMEO_DEU_2015_9D</th>\n",
       "      <th>CAMEO_DEU_2015_9E</th>\n",
       "      <th>DECADE</th>\n",
       "      <th>MOVEMENT</th>\n",
       "      <th>WEALTH</th>\n",
       "      <th>LIFE_STAGE</th>\n",
       "    </tr>\n",
       "  </thead>\n",
       "  <tbody>\n",
       "    <tr>\n",
       "      <td>1</td>\n",
       "      <td>1.0</td>\n",
       "      <td>2</td>\n",
       "      <td>1</td>\n",
       "      <td>5</td>\n",
       "      <td>2</td>\n",
       "      <td>5</td>\n",
       "      <td>4</td>\n",
       "      <td>5</td>\n",
       "      <td>0</td>\n",
       "      <td>3.0</td>\n",
       "      <td>...</td>\n",
       "      <td>0</td>\n",
       "      <td>0</td>\n",
       "      <td>0</td>\n",
       "      <td>0</td>\n",
       "      <td>0</td>\n",
       "      <td>0</td>\n",
       "      <td>6.0</td>\n",
       "      <td>1.0</td>\n",
       "      <td>5.0</td>\n",
       "      <td>1.0</td>\n",
       "    </tr>\n",
       "    <tr>\n",
       "      <td>2</td>\n",
       "      <td>3.0</td>\n",
       "      <td>2</td>\n",
       "      <td>1</td>\n",
       "      <td>4</td>\n",
       "      <td>1</td>\n",
       "      <td>2</td>\n",
       "      <td>3</td>\n",
       "      <td>5</td>\n",
       "      <td>1</td>\n",
       "      <td>3.0</td>\n",
       "      <td>...</td>\n",
       "      <td>0</td>\n",
       "      <td>0</td>\n",
       "      <td>0</td>\n",
       "      <td>0</td>\n",
       "      <td>0</td>\n",
       "      <td>0</td>\n",
       "      <td>6.0</td>\n",
       "      <td>0.0</td>\n",
       "      <td>2.0</td>\n",
       "      <td>4.0</td>\n",
       "    </tr>\n",
       "    <tr>\n",
       "      <td>3</td>\n",
       "      <td>4.0</td>\n",
       "      <td>2</td>\n",
       "      <td>4</td>\n",
       "      <td>2</td>\n",
       "      <td>5</td>\n",
       "      <td>2</td>\n",
       "      <td>1</td>\n",
       "      <td>2</td>\n",
       "      <td>0</td>\n",
       "      <td>2.0</td>\n",
       "      <td>...</td>\n",
       "      <td>0</td>\n",
       "      <td>0</td>\n",
       "      <td>0</td>\n",
       "      <td>0</td>\n",
       "      <td>0</td>\n",
       "      <td>0</td>\n",
       "      <td>4.0</td>\n",
       "      <td>1.0</td>\n",
       "      <td>1.0</td>\n",
       "      <td>2.0</td>\n",
       "    </tr>\n",
       "    <tr>\n",
       "      <td>4</td>\n",
       "      <td>3.0</td>\n",
       "      <td>1</td>\n",
       "      <td>4</td>\n",
       "      <td>3</td>\n",
       "      <td>4</td>\n",
       "      <td>1</td>\n",
       "      <td>3</td>\n",
       "      <td>2</td>\n",
       "      <td>0</td>\n",
       "      <td>3.0</td>\n",
       "      <td>...</td>\n",
       "      <td>0</td>\n",
       "      <td>0</td>\n",
       "      <td>0</td>\n",
       "      <td>0</td>\n",
       "      <td>0</td>\n",
       "      <td>0</td>\n",
       "      <td>4.0</td>\n",
       "      <td>1.0</td>\n",
       "      <td>4.0</td>\n",
       "      <td>3.0</td>\n",
       "    </tr>\n",
       "    <tr>\n",
       "      <td>5</td>\n",
       "      <td>1.0</td>\n",
       "      <td>2</td>\n",
       "      <td>3</td>\n",
       "      <td>1</td>\n",
       "      <td>5</td>\n",
       "      <td>2</td>\n",
       "      <td>2</td>\n",
       "      <td>5</td>\n",
       "      <td>0</td>\n",
       "      <td>3.0</td>\n",
       "      <td>...</td>\n",
       "      <td>0</td>\n",
       "      <td>0</td>\n",
       "      <td>0</td>\n",
       "      <td>0</td>\n",
       "      <td>0</td>\n",
       "      <td>0</td>\n",
       "      <td>2.0</td>\n",
       "      <td>1.0</td>\n",
       "      <td>5.0</td>\n",
       "      <td>4.0</td>\n",
       "    </tr>\n",
       "  </tbody>\n",
       "</table>\n",
       "<p>5 rows × 198 columns</p>\n",
       "</div>"
      ],
      "text/plain": [
       "   ALTERSKATEGORIE_GROB  ANREDE_KZ  FINANZ_MINIMALIST  FINANZ_SPARER  \\\n",
       "1                   1.0          2                  1              5   \n",
       "2                   3.0          2                  1              4   \n",
       "3                   4.0          2                  4              2   \n",
       "4                   3.0          1                  4              3   \n",
       "5                   1.0          2                  3              1   \n",
       "\n",
       "   FINANZ_VORSORGER  FINANZ_ANLEGER  FINANZ_UNAUFFAELLIGER  FINANZ_HAUSBAUER  \\\n",
       "1                 2               5                      4                 5   \n",
       "2                 1               2                      3                 5   \n",
       "3                 5               2                      1                 2   \n",
       "4                 4               1                      3                 2   \n",
       "5                 5               2                      2                 5   \n",
       "\n",
       "   GREEN_AVANTGARDE  HEALTH_TYP  ...  CAMEO_DEU_2015_8D  CAMEO_DEU_2015_9A  \\\n",
       "1                 0         3.0  ...                  0                  0   \n",
       "2                 1         3.0  ...                  0                  0   \n",
       "3                 0         2.0  ...                  0                  0   \n",
       "4                 0         3.0  ...                  0                  0   \n",
       "5                 0         3.0  ...                  0                  0   \n",
       "\n",
       "   CAMEO_DEU_2015_9B  CAMEO_DEU_2015_9C  CAMEO_DEU_2015_9D  CAMEO_DEU_2015_9E  \\\n",
       "1                  0                  0                  0                  0   \n",
       "2                  0                  0                  0                  0   \n",
       "3                  0                  0                  0                  0   \n",
       "4                  0                  0                  0                  0   \n",
       "5                  0                  0                  0                  0   \n",
       "\n",
       "   DECADE  MOVEMENT  WEALTH  LIFE_STAGE  \n",
       "1     6.0       1.0     5.0         1.0  \n",
       "2     6.0       0.0     2.0         4.0  \n",
       "3     4.0       1.0     1.0         2.0  \n",
       "4     4.0       1.0     4.0         3.0  \n",
       "5     2.0       1.0     5.0         4.0  \n",
       "\n",
       "[5 rows x 198 columns]"
      ]
     },
     "execution_count": 35,
     "metadata": {},
     "output_type": "execute_result"
    }
   ],
   "source": [
    "# Validation - 2\n",
    "\n",
    "df_below25.head()"
   ]
  },
  {
   "cell_type": "markdown",
   "metadata": {},
   "source": [
    "#### Discussion 1.2.2: Engineer Mixed-Type Features\n",
    "\n",
    "In this step, I engineered the attributes of PRAEGENDE_JUGENDJAHRE and CAMEO_INTL_2015 as required. <br>\n",
    "PRAEGENDE_JUGENDJAHRE has been divided into [\"DECADE\"] and [\"MOVEMENT\"], while CAMEO_INTL_2015 has been divided into [\"WEALTH\"] and [\"LIFE_STAGE\"]. <br>\n",
    "The other mixed attributes left as they were but they might be engineered as well if more ML accuracy is required in the future."
   ]
  },
  {
   "cell_type": "markdown",
   "metadata": {},
   "source": [
    "#### Step 1.2.3: Complete Feature Selection\n",
    "\n",
    "In order to finish this step up, you need to make sure that your data frame now only has the columns that you want to keep. To summarize, the dataframe should consist of the following:\n",
    "- All numeric, interval, and ordinal type columns from the original dataset.\n",
    "- Binary categorical features (all numerically-encoded).\n",
    "- Engineered features from other multi-level categorical features and mixed features.\n",
    "\n",
    "Make sure that for any new columns that you have engineered, that you've excluded the original columns from the final dataset. Otherwise, their values will interfere with the analysis later on the project. For example, you should not keep \"PRAEGENDE_JUGENDJAHRE\", since its values won't be useful for the algorithm: only the values derived from it in the engineered features you created should be retained. As a reminder, your data should only be from **the subset with few or no missing values**."
   ]
  },
  {
   "cell_type": "code",
   "execution_count": 36,
   "metadata": {},
   "outputs": [
    {
     "data": {
      "text/plain": [
       "(797961, 196)"
      ]
     },
     "execution_count": 36,
     "metadata": {},
     "output_type": "execute_result"
    }
   ],
   "source": [
    "# If there are other re-engineering tasks you need to perform, make sure you\n",
    "# take care of them here. (Dealing with missing data will come in step 2.1.)\n",
    "\n",
    "\"\"\"\n",
    "All preprocessing operations have been completed on above cells apart from deletion of \n",
    "original \"PRAEGENDE_JUGENDJAHRE\" and \"CAMEO_INTL_2015\" columns.\n",
    "And this will be completed on this cell. \n",
    "\n",
    "\"\"\"\n",
    "\n",
    "df_below25.drop(\"PRAEGENDE_JUGENDJAHRE\", axis=1, inplace = True)\n",
    "df_below25.drop(\"CAMEO_INTL_2015\", axis=1, inplace = True)\n",
    "\n",
    "df_below25.shape # 2 columns dropped."
   ]
  },
  {
   "cell_type": "code",
   "execution_count": 37,
   "metadata": {},
   "outputs": [],
   "source": [
    "# Do whatever you need to in order to ensure that the dataframe only contains\n",
    "# the columns that should be passed to the algorithm functions.\n"
   ]
  },
  {
   "cell_type": "markdown",
   "metadata": {},
   "source": [
    "### Step 1.3: Create a Cleaning Function\n",
    "\n",
    "Even though you've finished cleaning up the general population demographics data, it's important to look ahead to the future and realize that you'll need to perform the same cleaning steps on the customer demographics data. In this substep, complete the function below to execute the main feature selection, encoding, and re-engineering steps you performed above. Then, when it comes to looking at the customer data in Step 3, you can just run this function on that DataFrame to get the trimmed dataset in a single step."
   ]
  },
  {
   "cell_type": "code",
   "execution_count": 221,
   "metadata": {},
   "outputs": [],
   "source": [
    "def clean_data(df, feat_info):\n",
    "    \"\"\"\n",
    "    Perform feature trimming, re-encoding, and engineering for demographics\n",
    "    data\n",
    "    \n",
    "    INPUT: Demographics and Features Info DataFrame\n",
    "    OUTPUT: Trimmed and cleaned demographics and feature info dataframe\n",
    "    \"\"\"\n",
    "    \n",
    "    # Extract values from missing_or_unknown column and replace them with Null in azdias\n",
    "    for i in range(feat_info.shape[0]):\n",
    "    \n",
    "        missing_or_unknown = feat_info.iloc[i]['missing_or_unknown']\n",
    "        missing_or_unknown = missing_or_unknown.strip(\"[\").strip(\"]\").split(\",\")\n",
    "\n",
    "        missing_or_unknown = [int(value) if (value!='X' and value!='XX' and value!='') else value for value in missing_or_unknown]\n",
    "\n",
    "        if missing_or_unknown != ['']:\n",
    "            df = df.replace({feat_info.iloc[i]['attribute']: missing_or_unknown}, np.nan)\n",
    "\n",
    "    \n",
    "    # Df missing values status\n",
    "    df_missing_status = pd.DataFrame({\"feature\":df.isnull().sum().index, \n",
    "                                      \"missing_count\":df.isnull().sum().values,\n",
    "                                      \"missing_ratio\":(df.isnull().sum().values/len(df))*100})\n",
    "\n",
    "    # Drop the columns which have been dropped from azdias.\n",
    "    columns_to_drop = [\"TITEL_KZ\",\n",
    "                       \"AGER_TYP\",\n",
    "                       \"KK_KUNDENTYP\",\n",
    "                       \"KBA05_BAUMAX\",\n",
    "                       \"GEBURTSJAHR\",\n",
    "                       \"ALTER_HH\"]\n",
    "    \n",
    "    df= df.drop(columns_to_drop, axis = 1)\n",
    "    feat_info = feat_info[feat_info['attribute'].isin(columns_to_drop) == False]\n",
    "   \n",
    "    # Split dataframe into 2 subset based on rows' missing value count\n",
    "    df_above25 = df[df.isnull().sum(axis=1) > 25]\n",
    "    df_below25 = df[df.isnull().sum(axis=1) <= 25] \n",
    "\n",
    "    # Tag feat_info data as non-numeric binary, binary and multi-level.\n",
    "    cat_type_dict = {}\n",
    "    cat_feat = feat_info[feat_info[\"type\"] == \"categorical\"][\"attribute\"]\n",
    "    for attr in cat_feat:\n",
    "        if df_below25[attr].nunique() == 2:\n",
    "            if type(df_below25[attr].iloc[0]) == str:\n",
    "                cat_type_dict[attr] = 'non-numeric binary'\n",
    "            else:\n",
    "                cat_type_dict[attr] = 'binary'\n",
    "        else:\n",
    "            cat_type_dict[attr] = 'multi-level'\n",
    "\n",
    "    # Convert non-numerical binary categorical column, OST_WEST_KZ, to numerical binary\n",
    "    df_below25[\"OST_WEST_KZ\"] = df_below25[\"OST_WEST_KZ\"].replace([\"W\", \"O\"], [1, 0])\n",
    "    \n",
    "    # Establish one-hot encoding for multi-level categorical variables\n",
    "    df_below25 = pd.get_dummies(df_below25, columns=[i for i in cat_type_dict if cat_type_dict[i]==\"multi-level\"])\n",
    "    \n",
    "    # Engineer PRAEGENDE_JUGENDJAHRE and AMEO_INTL_2015\n",
    "    \n",
    "    # Create Decade and Movement columns\n",
    "    df_below25[\"DECADE\"]= df_below25[\"PRAEGENDE_JUGENDJAHRE\"]\n",
    "    df_below25[\"MOVEMENT\"]= df_below25[\"PRAEGENDE_JUGENDJAHRE\"]\n",
    "\n",
    "    # Decade dictionary: \n",
    "    # 1->40s , 2->50s , 3->60s , 4->70 , 5->80 , 6->90\n",
    "    decade_dic = {1:1,2:1,3:2,4:2,5:3,6:3,7:3,8:4,9:4,10:5,11:5,12:5,13:5,14:6,15:6}\n",
    "\n",
    "    # Mainstream / Avantgarde dictionary : 1 -> mainstream , 0 -> avantgarde\n",
    "    # Mainstream -> 1: dictionaries [1,3,5,8,10,12,14]\n",
    "    # Avantgarte -> 0: dictionaries [2,4,6,7,9,11,13,15]\n",
    "    movement_dic = {1:1,2:0,3:1,4:0,5:1,6:0,7:0,8:1,9:0,10:1,11:0,12:1,13:0,14:1,15:0}\n",
    "\n",
    "    # Update columns based on created dictionaries.\n",
    "    df_below25[\"DECADE\"].replace(decade_dic, inplace=True)\n",
    "    df_below25[\"MOVEMENT\"].replace(movement_dic, inplace=True)\n",
    "                         \n",
    "    # Create Wealth and Life Stage columns\n",
    "    df_below25[\"WEALTH\"]= df_below25[\"CAMEO_INTL_2015\"]\n",
    "    df_below25[\"LIFE_STAGE\"]= df_below25[\"CAMEO_INTL_2015\"]\n",
    "\n",
    "    # Wealth dictionary: \n",
    "    #1-> Wealthy (1*), 2-> Prosperous(2*), 3-> Comfortable(3*), 4-> Less Affluent(4*), 5-> Poorer(5*).\n",
    "    wealth_dic = {\"11\":1,\"12\":1,\"13\":1,\"14\":1,\"15\":1,\"21\":2,\"22\":2,\"23\":2,\"24\":2,\"25\":2,\"31\":3,\"32\":3,\"33\":3,\"34\":3,\n",
    "                  \"35\":3,\"41\":4,\"42\":4,\"43\":4,\"44\":4,\"45\":4,\"51\":5,\"52\":5,\"53\":5,\"54\":5,\"55\":5}\n",
    "\n",
    "    # Life stage dictionary:\n",
    "    # 1-> Pre-Family Couples & Singles (*1), 2~> Young Couples With Children (*2), \n",
    "    # 3-> Families With School Age Children(*3), 4-> Older Families &  Mature Couples (*4), \n",
    "    # 5-> Elders In Retirement (*5)\n",
    "    life_stage_dic={\"11\":1,\"21\":1,\"31\":1,\"41\":1,\"51\":1,\"12\":2,\"22\":2,\"32\":2,\"42\":2,\"52\":2,\"13\":3,\"23\":3,\"33\":3,\"43\":3,\n",
    "                    \"53\":3,\"14\":4,\"24\":4,\"34\":4,\"44\":4,\"54\":4,\"15\":5,\"25\":5,\"35\":5,\"45\":5,\"55\":5}\n",
    "\n",
    "    #Update the new columns with specific values\n",
    "    df_below25[\"WEALTH\"].replace(wealth_dic, inplace=True)\n",
    "    df_below25[\"LIFE_STAGE\"].replace(life_stage_dic, inplace=True)\n",
    "                         \n",
    "    # Drop original PRAEGENDE_JUGENDJAHRE and AMEO_INTL_2015\n",
    "    df_below25.drop(\"PRAEGENDE_JUGENDJAHRE\", axis=1, inplace = True)\n",
    "    df_below25.drop(\"CAMEO_INTL_2015\", axis=1, inplace = True)\n",
    "    \n",
    "    \n",
    "    return df_below25"
   ]
  },
  {
   "cell_type": "code",
   "execution_count": 222,
   "metadata": {},
   "outputs": [],
   "source": [
    "# Load in the general demographics data.\n",
    "azdias = pd.read_csv('Udacity_AZDIAS_Subset.csv', sep=';')\n",
    "\n",
    "# Load in the feature summary file.\n",
    "feat_info = pd.read_csv('AZDIAS_Feature_Summary.csv', sep=';')"
   ]
  },
  {
   "cell_type": "code",
   "execution_count": 223,
   "metadata": {},
   "outputs": [
    {
     "name": "stderr",
     "output_type": "stream",
     "text": [
      "/Users/evrenermis/opt/anaconda3/lib/python3.7/site-packages/ipykernel_launcher.py:55: SettingWithCopyWarning:\n",
      "\n",
      "\n",
      "A value is trying to be set on a copy of a slice from a DataFrame.\n",
      "Try using .loc[row_indexer,col_indexer] = value instead\n",
      "\n",
      "See the caveats in the documentation: http://pandas.pydata.org/pandas-docs/stable/user_guide/indexing.html#returning-a-view-versus-a-copy\n",
      "\n"
     ]
    }
   ],
   "source": [
    "df = clean_data(azdias, feat_info)"
   ]
  },
  {
   "cell_type": "code",
   "execution_count": 224,
   "metadata": {},
   "outputs": [
    {
     "data": {
      "text/plain": [
       "(797961, 196)"
      ]
     },
     "execution_count": 224,
     "metadata": {},
     "output_type": "execute_result"
    }
   ],
   "source": [
    "df.shape"
   ]
  },
  {
   "cell_type": "code",
   "execution_count": 225,
   "metadata": {},
   "outputs": [
    {
     "data": {
      "text/plain": [
       "'\\n\\nOutput of clean_data function is align with prior steps.\\nEverything is allright.\\n\\nFrom now on, I will be using ouput of clean_data (df and feat_info) as main dataset.\\n\\n'"
      ]
     },
     "execution_count": 225,
     "metadata": {},
     "output_type": "execute_result"
    }
   ],
   "source": [
    "\"\"\"\n",
    "\n",
    "Output of clean_data function is align with prior steps.\n",
    "Everything is allright.\n",
    "\n",
    "From now on, I will be using ouput of clean_data (df and feat_info) as main dataset.\n",
    "\n",
    "\"\"\""
   ]
  },
  {
   "cell_type": "markdown",
   "metadata": {},
   "source": [
    "## Step 2: Feature Transformation\n",
    "\n",
    "### Step 2.1: Apply Feature Scaling\n",
    "\n",
    "Before we apply dimensionality reduction techniques to the data, we need to perform feature scaling so that the principal component vectors are not influenced by the natural differences in scale for features. Starting from this part of the project, you'll want to keep an eye on the [API reference page for sklearn](http://scikit-learn.org/stable/modules/classes.html) to help you navigate to all of the classes and functions that you'll need. In this substep, you'll need to check the following:\n",
    "\n",
    "- sklearn requires that data not have missing values in order for its estimators to work properly. So, before applying the scaler to your data, make sure that you've cleaned the DataFrame of the remaining missing values. This can be as simple as just removing all data points with missing data, or applying an [Imputer](http://scikit-learn.org/stable/modules/generated/sklearn.preprocessing.Imputer.html) to replace all missing values. You might also try a more complicated procedure where you temporarily remove missing values in order to compute the scaling parameters before re-introducing those missing values and applying imputation. Think about how much missing data you have and what possible effects each approach might have on your analysis, and justify your decision in the discussion section below.\n",
    "- For the actual scaling function, a [StandardScaler](http://scikit-learn.org/stable/modules/generated/sklearn.preprocessing.StandardScaler.html) instance is suggested, scaling each feature to mean 0 and standard deviation 1.\n",
    "- For these classes, you can make use of the `.fit_transform()` method to both fit a procedure to the data as well as apply the transformation to the data at the same time. Don't forget to keep the fit sklearn objects handy, since you'll be applying them to the customer demographics data towards the end of the project."
   ]
  },
  {
   "cell_type": "code",
   "execution_count": 44,
   "metadata": {},
   "outputs": [
    {
     "name": "stdout",
     "output_type": "stream",
     "text": [
      "Number of NaN values 'Before' imputation:  881900\n",
      "Number of NaA values 'After' imputation:  0\n"
     ]
    }
   ],
   "source": [
    "# If you've not yet cleaned the dataset of all NaN values, then investigate and\n",
    "# do that now.\n",
    "\n",
    "print(\"Number of NaN values 'Before' imputation:  \" + str(df.isnull().sum().sum()))\n",
    "\n",
    "from sklearn.impute import SimpleImputer\n",
    "imputer = SimpleImputer(missing_values=np.nan, strategy=\"mean\")\n",
    "imputer.fit(df)\n",
    "df[:] = imputer.transform(df)\n",
    "\n",
    "print(\"Number of NaA values 'After' imputation:  \" + str(df.isnull().sum().sum()))"
   ]
  },
  {
   "cell_type": "code",
   "execution_count": 45,
   "metadata": {},
   "outputs": [],
   "source": [
    "# Apply feature scaling to the general population demographics data.\n",
    "\n",
    "from sklearn.preprocessing import StandardScaler\n",
    "standardscaler = StandardScaler()\n",
    "df_scaled = standardscaler.fit_transform(df)\n",
    "\n",
    "# Transform scaled array into DataFrame\n",
    "df_new = pd.DataFrame(df_scaled)\n",
    "df_new.columns = df.columns\n",
    "df_new.index = df.index"
   ]
  },
  {
   "cell_type": "code",
   "execution_count": 46,
   "metadata": {},
   "outputs": [
    {
     "data": {
      "text/html": [
       "<div>\n",
       "<style scoped>\n",
       "    .dataframe tbody tr th:only-of-type {\n",
       "        vertical-align: middle;\n",
       "    }\n",
       "\n",
       "    .dataframe tbody tr th {\n",
       "        vertical-align: top;\n",
       "    }\n",
       "\n",
       "    .dataframe thead th {\n",
       "        text-align: right;\n",
       "    }\n",
       "</style>\n",
       "<table border=\"1\" class=\"dataframe\">\n",
       "  <thead>\n",
       "    <tr style=\"text-align: right;\">\n",
       "      <th></th>\n",
       "      <th>ALTERSKATEGORIE_GROB</th>\n",
       "      <th>ANREDE_KZ</th>\n",
       "      <th>FINANZ_MINIMALIST</th>\n",
       "      <th>FINANZ_SPARER</th>\n",
       "      <th>FINANZ_VORSORGER</th>\n",
       "      <th>FINANZ_ANLEGER</th>\n",
       "      <th>FINANZ_UNAUFFAELLIGER</th>\n",
       "      <th>FINANZ_HAUSBAUER</th>\n",
       "      <th>GREEN_AVANTGARDE</th>\n",
       "      <th>HEALTH_TYP</th>\n",
       "      <th>...</th>\n",
       "      <th>CAMEO_DEU_2015_8D</th>\n",
       "      <th>CAMEO_DEU_2015_9A</th>\n",
       "      <th>CAMEO_DEU_2015_9B</th>\n",
       "      <th>CAMEO_DEU_2015_9C</th>\n",
       "      <th>CAMEO_DEU_2015_9D</th>\n",
       "      <th>CAMEO_DEU_2015_9E</th>\n",
       "      <th>DECADE</th>\n",
       "      <th>MOVEMENT</th>\n",
       "      <th>WEALTH</th>\n",
       "      <th>LIFE_STAGE</th>\n",
       "    </tr>\n",
       "  </thead>\n",
       "  <tbody>\n",
       "    <tr>\n",
       "      <td>1</td>\n",
       "      <td>-1.766034</td>\n",
       "      <td>0.957933</td>\n",
       "      <td>-1.494605</td>\n",
       "      <td>1.537983</td>\n",
       "      <td>-1.040689</td>\n",
       "      <td>1.466048</td>\n",
       "      <td>0.958818</td>\n",
       "      <td>1.339234</td>\n",
       "      <td>-0.530442</td>\n",
       "      <td>1.085896</td>\n",
       "      <td>...</td>\n",
       "      <td>-0.150074</td>\n",
       "      <td>-0.162553</td>\n",
       "      <td>-0.189551</td>\n",
       "      <td>-0.179794</td>\n",
       "      <td>-0.19278</td>\n",
       "      <td>-0.089762</td>\n",
       "      <td>1.165659</td>\n",
       "      <td>0.553151</td>\n",
       "      <td>1.191245</td>\n",
       "      <td>-1.266353</td>\n",
       "    </tr>\n",
       "    <tr>\n",
       "      <td>2</td>\n",
       "      <td>0.201250</td>\n",
       "      <td>0.957933</td>\n",
       "      <td>-1.494605</td>\n",
       "      <td>0.864617</td>\n",
       "      <td>-1.766963</td>\n",
       "      <td>-0.570958</td>\n",
       "      <td>0.244259</td>\n",
       "      <td>1.339234</td>\n",
       "      <td>1.885219</td>\n",
       "      <td>1.085896</td>\n",
       "      <td>...</td>\n",
       "      <td>-0.150074</td>\n",
       "      <td>-0.162553</td>\n",
       "      <td>-0.189551</td>\n",
       "      <td>-0.179794</td>\n",
       "      <td>-0.19278</td>\n",
       "      <td>-0.089762</td>\n",
       "      <td>1.165659</td>\n",
       "      <td>-1.875295</td>\n",
       "      <td>-0.865147</td>\n",
       "      <td>0.761951</td>\n",
       "    </tr>\n",
       "    <tr>\n",
       "      <td>3</td>\n",
       "      <td>1.184892</td>\n",
       "      <td>0.957933</td>\n",
       "      <td>0.683156</td>\n",
       "      <td>-0.482116</td>\n",
       "      <td>1.138133</td>\n",
       "      <td>-0.570958</td>\n",
       "      <td>-1.184858</td>\n",
       "      <td>-0.791347</td>\n",
       "      <td>-0.530442</td>\n",
       "      <td>-0.269840</td>\n",
       "      <td>...</td>\n",
       "      <td>-0.150074</td>\n",
       "      <td>-0.162553</td>\n",
       "      <td>-0.189551</td>\n",
       "      <td>-0.179794</td>\n",
       "      <td>-0.19278</td>\n",
       "      <td>-0.089762</td>\n",
       "      <td>-0.232000</td>\n",
       "      <td>0.553151</td>\n",
       "      <td>-1.550612</td>\n",
       "      <td>-0.590252</td>\n",
       "    </tr>\n",
       "    <tr>\n",
       "      <td>4</td>\n",
       "      <td>0.201250</td>\n",
       "      <td>-1.043914</td>\n",
       "      <td>0.683156</td>\n",
       "      <td>0.191250</td>\n",
       "      <td>0.411859</td>\n",
       "      <td>-1.249960</td>\n",
       "      <td>0.244259</td>\n",
       "      <td>-0.791347</td>\n",
       "      <td>-0.530442</td>\n",
       "      <td>1.085896</td>\n",
       "      <td>...</td>\n",
       "      <td>-0.150074</td>\n",
       "      <td>-0.162553</td>\n",
       "      <td>-0.189551</td>\n",
       "      <td>-0.179794</td>\n",
       "      <td>-0.19278</td>\n",
       "      <td>-0.089762</td>\n",
       "      <td>-0.232000</td>\n",
       "      <td>0.553151</td>\n",
       "      <td>0.505781</td>\n",
       "      <td>0.085850</td>\n",
       "    </tr>\n",
       "    <tr>\n",
       "      <td>5</td>\n",
       "      <td>-1.766034</td>\n",
       "      <td>0.957933</td>\n",
       "      <td>-0.042764</td>\n",
       "      <td>-1.155482</td>\n",
       "      <td>1.138133</td>\n",
       "      <td>-0.570958</td>\n",
       "      <td>-0.470299</td>\n",
       "      <td>1.339234</td>\n",
       "      <td>-0.530442</td>\n",
       "      <td>1.085896</td>\n",
       "      <td>...</td>\n",
       "      <td>-0.150074</td>\n",
       "      <td>-0.162553</td>\n",
       "      <td>-0.189551</td>\n",
       "      <td>-0.179794</td>\n",
       "      <td>-0.19278</td>\n",
       "      <td>-0.089762</td>\n",
       "      <td>-1.629658</td>\n",
       "      <td>0.553151</td>\n",
       "      <td>1.191245</td>\n",
       "      <td>0.761951</td>\n",
       "    </tr>\n",
       "  </tbody>\n",
       "</table>\n",
       "<p>5 rows × 196 columns</p>\n",
       "</div>"
      ],
      "text/plain": [
       "   ALTERSKATEGORIE_GROB  ANREDE_KZ  FINANZ_MINIMALIST  FINANZ_SPARER  \\\n",
       "1             -1.766034   0.957933          -1.494605       1.537983   \n",
       "2              0.201250   0.957933          -1.494605       0.864617   \n",
       "3              1.184892   0.957933           0.683156      -0.482116   \n",
       "4              0.201250  -1.043914           0.683156       0.191250   \n",
       "5             -1.766034   0.957933          -0.042764      -1.155482   \n",
       "\n",
       "   FINANZ_VORSORGER  FINANZ_ANLEGER  FINANZ_UNAUFFAELLIGER  FINANZ_HAUSBAUER  \\\n",
       "1         -1.040689        1.466048               0.958818          1.339234   \n",
       "2         -1.766963       -0.570958               0.244259          1.339234   \n",
       "3          1.138133       -0.570958              -1.184858         -0.791347   \n",
       "4          0.411859       -1.249960               0.244259         -0.791347   \n",
       "5          1.138133       -0.570958              -0.470299          1.339234   \n",
       "\n",
       "   GREEN_AVANTGARDE  HEALTH_TYP  ...  CAMEO_DEU_2015_8D  CAMEO_DEU_2015_9A  \\\n",
       "1         -0.530442    1.085896  ...          -0.150074          -0.162553   \n",
       "2          1.885219    1.085896  ...          -0.150074          -0.162553   \n",
       "3         -0.530442   -0.269840  ...          -0.150074          -0.162553   \n",
       "4         -0.530442    1.085896  ...          -0.150074          -0.162553   \n",
       "5         -0.530442    1.085896  ...          -0.150074          -0.162553   \n",
       "\n",
       "   CAMEO_DEU_2015_9B  CAMEO_DEU_2015_9C  CAMEO_DEU_2015_9D  CAMEO_DEU_2015_9E  \\\n",
       "1          -0.189551          -0.179794           -0.19278          -0.089762   \n",
       "2          -0.189551          -0.179794           -0.19278          -0.089762   \n",
       "3          -0.189551          -0.179794           -0.19278          -0.089762   \n",
       "4          -0.189551          -0.179794           -0.19278          -0.089762   \n",
       "5          -0.189551          -0.179794           -0.19278          -0.089762   \n",
       "\n",
       "     DECADE  MOVEMENT    WEALTH  LIFE_STAGE  \n",
       "1  1.165659  0.553151  1.191245   -1.266353  \n",
       "2  1.165659 -1.875295 -0.865147    0.761951  \n",
       "3 -0.232000  0.553151 -1.550612   -0.590252  \n",
       "4 -0.232000  0.553151  0.505781    0.085850  \n",
       "5 -1.629658  0.553151  1.191245    0.761951  \n",
       "\n",
       "[5 rows x 196 columns]"
      ]
     },
     "execution_count": 46,
     "metadata": {},
     "output_type": "execute_result"
    }
   ],
   "source": [
    "df_new.head()"
   ]
  },
  {
   "cell_type": "markdown",
   "metadata": {},
   "source": [
    "### Discussion 2.1: Apply Feature Scaling\n",
    "\n",
    "In this chapter, data imputation has been completed in order to replace missing values. \"Mean\" strategy has been applied for filling NaN values.<br>\n",
    "Then, the imputed data has been used to scale each feature to mean 0 and standard deviation 1 via StandartScaler. <br>\n",
    "So, finally the data is ready for PCA"
   ]
  },
  {
   "cell_type": "markdown",
   "metadata": {},
   "source": [
    "### Step 2.2: Perform Dimensionality Reduction\n",
    "\n",
    "On your scaled data, you are now ready to apply dimensionality reduction techniques.\n",
    "\n",
    "- Use sklearn's [PCA](http://scikit-learn.org/stable/modules/generated/sklearn.decomposition.PCA.html) class to apply principal component analysis on the data, thus finding the vectors of maximal variance in the data. To start, you should not set any parameters (so all components are computed) or set a number of components that is at least half the number of features (so there's enough features to see the general trend in variability).\n",
    "- Check out the ratio of variance explained by each principal component as well as the cumulative variance explained. Try plotting the cumulative or sequential values using matplotlib's [`plot()`](https://matplotlib.org/api/_as_gen/matplotlib.pyplot.plot.html) function. Based on what you find, select a value for the number of transformed features you'll retain for the clustering part of the project.\n",
    "- Once you've made a choice for the number of components to keep, make sure you re-fit a PCA instance to perform the decided-on transformation."
   ]
  },
  {
   "cell_type": "code",
   "execution_count": 47,
   "metadata": {},
   "outputs": [],
   "source": [
    "# Apply PCA to the data.\n",
    "\n",
    "from sklearn.decomposition import PCA\n",
    "pca = PCA()\n",
    "pca_df_new = pca.fit_transform(df_new)"
   ]
  },
  {
   "cell_type": "code",
   "execution_count": 48,
   "metadata": {},
   "outputs": [
    {
     "data": {
      "image/png": "[encoded data removed]",
      "text/plain": [
       "<Figure size 936x576 with 1 Axes>"
      ]
     },
     "metadata": {
      "needs_background": "light"
     },
     "output_type": "display_data"
    }
   ],
   "source": [
    "# Investigate the variance accounted for by each principal component.\n",
    "# Cumulative variance based on compontents - graph only\n",
    "\n",
    "def scree_plot(pca):\n",
    "    '''\n",
    "    Creates a scree plot associated with the principal components \n",
    "    \n",
    "    INPUT: PCA result of related dataframe\n",
    "            \n",
    "    Output: none - graph only\n",
    "    \n",
    "    '''\n",
    "    \n",
    "    n_components = len(pca.explained_variance_ratio_)\n",
    "    index = np.arange(n_components)\n",
    "    values = pca.explained_variance_ratio_\n",
    " \n",
    "    plt.figure(figsize=(13, 8))\n",
    "    ax = plt.subplot(111)\n",
    "    cumvalues = np.cumsum(values)\n",
    "    ax.bar(index, values)\n",
    "    ax.plot(index, cumvalues)\n",
    "    \n",
    "    ax.xaxis.set_tick_params(width=0)\n",
    "    ax.yaxis.set_tick_params(width=2, length=12)\n",
    " \n",
    "    ax.set_xlabel('Principal Component')\n",
    "    ax.set_ylabel('Variance Percent')\n",
    "    plt.title('Variance Per Principal Component')\n",
    "    \n",
    "\n",
    "scree_plot(pca)"
   ]
  },
  {
   "cell_type": "code",
   "execution_count": 49,
   "metadata": {},
   "outputs": [
    {
     "name": "stdout",
     "output_type": "stream",
     "text": [
      "components: 0 = Cumulative variance so far : 0.0\n",
      "components: 5 = Cumulative variance so far : 0.23\n",
      "components: 10 = Cumulative variance so far : 0.3\n",
      "components: 15 = Cumulative variance so far : 0.36\n",
      "components: 20 = Cumulative variance so far : 0.41\n",
      "components: 25 = Cumulative variance so far : 0.46\n",
      "components: 30 = Cumulative variance so far : 0.5\n",
      "components: 35 = Cumulative variance so far : 0.53\n",
      "components: 40 = Cumulative variance so far : 0.56\n",
      "components: 45 = Cumulative variance so far : 0.59\n",
      "components: 50 = Cumulative variance so far : 0.62\n",
      "components: 55 = Cumulative variance so far : 0.64\n",
      "components: 60 = Cumulative variance so far : 0.67\n",
      "components: 65 = Cumulative variance so far : 0.7\n",
      "components: 70 = Cumulative variance so far : 0.72\n",
      "components: 75 = Cumulative variance so far : 0.75\n",
      "components: 80 = Cumulative variance so far : 0.77\n",
      "components: 85 = Cumulative variance so far : 0.8\n",
      "components: 90 = Cumulative variance so far : 0.83\n",
      "components: 95 = Cumulative variance so far : 0.85\n",
      "components: 100 = Cumulative variance so far : 0.87\n",
      "components: 105 = Cumulative variance so far : 0.9\n",
      "components: 110 = Cumulative variance so far : 0.91\n",
      "components: 115 = Cumulative variance so far : 0.93\n",
      "components: 120 = Cumulative variance so far : 0.95\n",
      "components: 125 = Cumulative variance so far : 0.96\n",
      "components: 130 = Cumulative variance so far : 0.97\n",
      "components: 135 = Cumulative variance so far : 0.98\n",
      "components: 140 = Cumulative variance so far : 0.98\n",
      "components: 145 = Cumulative variance so far : 0.99\n",
      "components: 150 = Cumulative variance so far : 0.99\n",
      "components: 155 = Cumulative variance so far : 1.0\n",
      "components: 160 = Cumulative variance so far : 1.0\n",
      "components: 165 = Cumulative variance so far : 1.0\n",
      "components: 170 = Cumulative variance so far : 1.0\n",
      "components: 175 = Cumulative variance so far : 1.0\n",
      "components: 180 = Cumulative variance so far : 1.0\n",
      "components: 185 = Cumulative variance so far : 1.0\n",
      "components: 190 = Cumulative variance so far : 1.0\n",
      "components: 195 = Cumulative variance so far : 1.0\n"
     ]
    }
   ],
   "source": [
    "# Cumulative variance based on compontents - detailed\n",
    "\n",
    "for i in np.arange(0, df_scaled.shape[1], 5):\n",
    "    print(f\"components: {i} = Cumulative variance so far : {round(pca.explained_variance_ratio_[:i].sum(),2)}\")"
   ]
  },
  {
   "cell_type": "code",
   "execution_count": 50,
   "metadata": {},
   "outputs": [
    {
     "data": {
      "text/plain": [
       "'\\nSelected number of compotents is 85 since they constitutes 80% of cumulative variance.\\n\\n'"
      ]
     },
     "execution_count": 50,
     "metadata": {},
     "output_type": "execute_result"
    }
   ],
   "source": [
    "\"\"\"\n",
    "Selected number of compotents is 85 since they constitutes 80% of cumulative variance.\n",
    "\n",
    "\"\"\""
   ]
  },
  {
   "cell_type": "code",
   "execution_count": 51,
   "metadata": {},
   "outputs": [],
   "source": [
    "# Re-apply PCA to the data while selecting for number of components to retain.\n",
    "\n",
    "pca_85 = PCA(n_components=85)\n",
    "pca_df_85 = pca_85.fit_transform(df_new)"
   ]
  },
  {
   "cell_type": "markdown",
   "metadata": {},
   "source": [
    "### Discussion 2.2: Perform Dimensionality Reduction\n",
    "\n",
    "Principal Component Analysis (PCA) has been applied to our data in order to reduce number of dimensions.\n",
    "80% variance has been achieved via 85 principal components.\n",
    "Therefore, the number of dimensions has been reduced from 196 to 85"
   ]
  },
  {
   "cell_type": "markdown",
   "metadata": {},
   "source": [
    "### Step 2.3: Interpret Principal Components\n",
    "\n",
    "Now that we have our transformed principal components, it's a nice idea to check out the weight of each variable on the first few components to see if they can be interpreted in some fashion.\n",
    "\n",
    "As a reminder, each principal component is a unit vector that points in the direction of highest variance (after accounting for the variance captured by earlier principal components). The further a weight is from zero, the more the principal component is in the direction of the corresponding feature. If two features have large weights of the same sign (both positive or both negative), then increases in one tend expect to be associated with increases in the other. To contrast, features with different signs can be expected to show a negative correlation: increases in one variable should result in a decrease in the other.\n",
    "\n",
    "- To investigate the features, you should map each weight to their corresponding feature name, then sort the features according to weight. The most interesting features for each principal component, then, will be those at the beginning and end of the sorted list. Use the data dictionary document to help you understand these most prominent features, their relationships, and what a positive or negative value on the principal component might indicate.\n",
    "- You should investigate and interpret feature associations from the first three principal components in this substep. To help facilitate this, you should write a function that you can call at any time to print the sorted list of feature weights, for the *i*-th principal component. This might come in handy in the next step of the project, when you interpret the tendencies of the discovered clusters."
   ]
  },
  {
   "cell_type": "code",
   "execution_count": 52,
   "metadata": {},
   "outputs": [],
   "source": [
    "# Map weights for the first principal component to corresponding feature names\n",
    "# and then print the linked values, sorted by weight.\n",
    "# HINT: Try defining a function here or in a new cell that you can reuse in the\n",
    "# other cells.\n",
    "\n",
    "def pca_results(data, pca, pca_ind, feat_num):\n",
    "\n",
    "    # This function illustrates the PCA results\n",
    "    \n",
    "    # Dimension indexing\n",
    "    dimensions = ['Dimension {}'.format(i) for i in range(1,len(pca.components_)+1)]\n",
    "\n",
    "    # PCA components\n",
    "    components = pd.DataFrame(np.round(pca.components_, 4), columns = list(data.keys()))\n",
    "    components.index = dimensions\n",
    "\n",
    "    # PCA explained variance\n",
    "    top_feat = abs(components.iloc[pca_ind]).nlargest(feat_num).axes[0]\n",
    "    top_feat_val = components[top_feat].iloc[pca_ind].sort_values(ascending=False)\n",
    "    # plot results\n",
    "    top_feat_val.plot(kind='bar', \n",
    "                      figsize=(10, 7), \n",
    "                      title=\"Principal component %s with top %s weighted features\" % (str(pca_ind+1), str(feat_num)))\n",
    "    plt.show()\n",
    "    return top_feat_val"
   ]
  },
  {
   "cell_type": "code",
   "execution_count": 53,
   "metadata": {},
   "outputs": [
    {
     "data": {
      "image/png": "[encoded data removed]",
      "text/plain": [
       "<Figure size 720x504 with 1 Axes>"
      ]
     },
     "metadata": {
      "needs_background": "light"
     },
     "output_type": "display_data"
    },
    {
     "name": "stdout",
     "output_type": "stream",
     "text": [
      "LP_STATUS_GROB_1.0    0.1888\n",
      "HH_EINKOMMEN_SCORE    0.1802\n",
      "WEALTH                0.1799\n",
      "PLZ8_ANTG3            0.1793\n",
      "PLZ8_ANTG4            0.1741\n",
      "KBA05_GBZ            -0.1769\n",
      "FINANZ_MINIMALIST    -0.1792\n",
      "PLZ8_ANTG1           -0.1799\n",
      "KBA05_ANTG1          -0.1863\n",
      "MOBI_REGIO           -0.1993\n",
      "Name: Dimension 1, dtype: float64\n"
     ]
    },
    {
     "data": {
      "image/png": "[encoded data removed]",
      "text/plain": [
       "<Figure size 720x504 with 1 Axes>"
      ]
     },
     "metadata": {
      "needs_background": "light"
     },
     "output_type": "display_data"
    },
    {
     "name": "stdout",
     "output_type": "stream",
     "text": [
      "ALTERSKATEGORIE_GROB     0.2374\n",
      "FINANZ_VORSORGER         0.2235\n",
      "ZABEOTYP_3               0.1992\n",
      "FINANZ_ANLEGER          -0.2074\n",
      "SEMIO_PFLICHT           -0.2099\n",
      "SEMIO_TRADV             -0.2105\n",
      "FINANZ_UNAUFFAELLIGER   -0.2171\n",
      "SEMIO_REL               -0.2178\n",
      "FINANZ_SPARER           -0.2341\n",
      "DECADE                  -0.2417\n",
      "Name: Dimension 2, dtype: float64\n"
     ]
    },
    {
     "data": {
      "image/png": "[encoded data removed]",
      "text/plain": [
       "<Figure size 720x504 with 1 Axes>"
      ]
     },
     "metadata": {
      "needs_background": "light"
     },
     "output_type": "display_data"
    },
    {
     "name": "stdout",
     "output_type": "stream",
     "text": [
      "SEMIO_VERT        0.3149\n",
      "SEMIO_FAM         0.2559\n",
      "SEMIO_SOZ         0.2543\n",
      "SEMIO_KULT        0.2474\n",
      "FINANZ_ANLEGER   -0.1546\n",
      "SEMIO_ERL        -0.2059\n",
      "SEMIO_KRIT       -0.2651\n",
      "SEMIO_DOM        -0.2753\n",
      "SEMIO_KAEM       -0.3077\n",
      "ANREDE_KZ        -0.3393\n",
      "Name: Dimension 3, dtype: float64\n"
     ]
    }
   ],
   "source": [
    "# Illustrate the results for 3 principal compotents.\n",
    "\n",
    "for i in range(3):\n",
    "    results = pca_results(df_new, pca_85, i, 10)\n",
    "    print(results)"
   ]
  },
  {
   "cell_type": "markdown",
   "metadata": {},
   "source": [
    "### Discussion 2.3: Interpret Principal Components\n",
    "\n",
    "## First Principal Component:\n",
    "#### *Positively correlated features:*\n",
    "- LP_STATUS_GROB_1.0: low-income earners (highest weight)\n",
    "- HH_EINKOMMEN_SCORE: Estimated household net income\n",
    "- CAMEO_INTL_2015_WEALTH: german CAMEO: Wealth (mixed type attribute we engineered)\n",
    "- PLZ8_ANTG3: Number of 6-10 family houses in the PLZ8 region\n",
    "- PLZ8_ANTG4: Number of 10+ family houses in the PLZ8 region\n",
    "\n",
    "#### *Negatively correlated features:*\n",
    "- KBA05_ANTG1: Number of 1-2 family houses in the microcell\n",
    "- KBA05_GBZ: Number of buildings in the microcell\n",
    "- PLZ8_ANTG1: Number of 1-2 family houses in the PLZ8 region\n",
    "- FINANZ_MINIMALIST: Financial typology (low financial interest)\n",
    "- MOBI_REGIO: Movement patterns in region (highest weight)\n",
    "\n",
    "\n",
    "## Second Principal Component:\n",
    "#### *Positively correlated features:*\n",
    "- ALTERSKATEGORIE_GROB: Estimated age based on given name analysis (highest weight)\n",
    "- FINANZ_VORSORGER: Financial typology (being financially prepared)\n",
    "- ZABEOTYP_3: Energy consumption typology (fair supplied)\n",
    "\n",
    "\n",
    "#### *Negatively correlated features:*\n",
    "- FINANZ_ANLEGER: Financial typology (investor)\n",
    "- SEMIO_PFLICHT: Personality typology (dutiful)\n",
    "- SEMIO_TRADV: Personality typology (tradional-minded)\n",
    "- FINANZ_UNAUFFAELLIGER: Financial typology (inconspicuous)\n",
    "- SEMIO_REL: Personality typology (religious)\n",
    "- FINANZ_SPARER: Financial typology (money-saver)\n",
    "- PRAEGENDE_JUGENDJAHRE_GENERATION: Person's generation (mixed type attribute we engineered) (highest weight)\n",
    "\n",
    "\n",
    "## Third Principal Component:\n",
    "#### *Positively correlated features:*\n",
    "- SEMIO_VERT: Personality typology (dreamful) (highest weight)\n",
    "- SEMIO_FAM: Personality typology (family-minded)\n",
    "- SEMIO_SOZ: Personality typology (socially-minded)\n",
    "- SEMIO_KULT: Personality typology (cultural-minded)\n",
    "\n",
    "#### *Negatively correlated features:*\n",
    "- FINANZ_ANLEGER: Financial typology (investor)\n",
    "- SEMIO_ERL: Personality typology (event-oriented)\n",
    "- SEMIO_KRIT: Personality typology (critical-minded)\n",
    "- SEMIO_DOM: Personality typology (dominant-minded)\n",
    "- SEMIO_KAEM: Personality typology (combative attitude)\n",
    "- ANREDE_KZ: Gender (highest weight)"
   ]
  },
  {
   "cell_type": "markdown",
   "metadata": {},
   "source": [
    "## Step 3: Clustering\n",
    "\n",
    "### Step 3.1: Apply Clustering to General Population\n",
    "\n",
    "You've assessed and cleaned the demographics data, then scaled and transformed them. Now, it's time to see how the data clusters in the principal components space. In this substep, you will apply k-means clustering to the dataset and use the average within-cluster distances from each point to their assigned cluster's centroid to decide on a number of clusters to keep.\n",
    "\n",
    "- Use sklearn's [KMeans](http://scikit-learn.org/stable/modules/generated/sklearn.cluster.KMeans.html#sklearn.cluster.KMeans) class to perform k-means clustering on the PCA-transformed data.\n",
    "- Then, compute the average difference from each point to its assigned cluster's center. **Hint**: The KMeans object's `.score()` method might be useful here, but note that in sklearn, scores tend to be defined so that larger is better. Try applying it to a small, toy dataset, or use an internet search to help your understanding.\n",
    "- Perform the above two steps for a number of different cluster counts. You can then see how the average distance decreases with an increasing number of clusters. However, each additional cluster provides a smaller net benefit. Use this fact to select a final number of clusters in which to group the data. **Warning**: because of the large size of the dataset, it can take a long time for the algorithm to resolve. The more clusters to fit, the longer the algorithm will take. You should test for cluster counts through at least 10 clusters to get the full picture, but you shouldn't need to test for a number of clusters above about 30.\n",
    "- Once you've selected a final number of clusters to use, re-fit a KMeans instance to perform the clustering operation. Make sure that you also obtain the cluster assignments for the general demographics data, since you'll be using them in the final Step 3.3."
   ]
  },
  {
   "cell_type": "code",
   "execution_count": 78,
   "metadata": {},
   "outputs": [
    {
     "name": "stdout",
     "output_type": "stream",
     "text": [
      "Cluster 1 completed\n",
      "Cluster 2 completed\n",
      "Cluster 3 completed\n",
      "Cluster 4 completed\n",
      "Cluster 5 completed\n",
      "Cluster 6 completed\n",
      "Cluster 7 completed\n",
      "Cluster 8 completed\n",
      "Cluster 9 completed\n",
      "Cluster 10 completed\n",
      "Cluster 11 completed\n",
      "Cluster 12 completed\n",
      "Cluster 13 completed\n",
      "Cluster 14 completed\n",
      "Cluster 15 completed\n",
      "Cluster 16 completed\n",
      "Cluster 17 completed\n",
      "Cluster 18 completed\n",
      "Cluster 19 completed\n",
      "Cluster 20 completed\n",
      "Clustering duration = 27.5minutes..\n"
     ]
    }
   ],
   "source": [
    "# Over a number of different cluster counts...\n",
    "from sklearn.cluster import KMeans\n",
    "import time \n",
    "\n",
    "scores = []\n",
    "clusters = []\n",
    "start = time.time()\n",
    "for i in range(1, 21):\n",
    "    kmeans = KMeans(n_clusters=i)\n",
    "    model = kmeans.fit(pca_df_85)\n",
    "    score = abs(model.score(pca_df_85)) # Score\n",
    "    scores.append(score)\n",
    "    clusters.append(i)\n",
    "    print(\"Cluster {}\".format(i) + \" completed\")\n",
    "    \n",
    "end = time.time()\n",
    "duration = round((end - start)/60,2)\n",
    "print(\"Clustering duration = \" + str(duration) + \"minutes..\")"
   ]
  },
  {
   "cell_type": "code",
   "execution_count": 79,
   "metadata": {},
   "outputs": [
    {
     "name": "stdout",
     "output_type": "stream",
     "text": [
      "score difference between 1 clusters and 2 clusters is 9,914,991\n",
      "score difference between 2 clusters and 3 clusters is 4,439,287\n",
      "score difference between 3 clusters and 4 clusters is 2,984,956\n",
      "score difference between 4 clusters and 5 clusters is 2,474,813\n",
      "score difference between 5 clusters and 6 clusters is 1,497,644\n",
      "score difference between 6 clusters and 7 clusters is 1,283,030\n",
      "score difference between 7 clusters and 8 clusters is 1,469,591\n",
      "score difference between 8 clusters and 9 clusters is 1,043,033\n",
      "score difference between 9 clusters and 10 clusters is 642,252\n",
      "score difference between 10 clusters and 11 clusters is 1,088,103\n",
      "score difference between 11 clusters and 12 clusters is 861,737\n",
      "score difference between 12 clusters and 13 clusters is 529,610\n",
      "score difference between 13 clusters and 14 clusters is 981,639\n",
      "score difference between 14 clusters and 15 clusters is 316,461\n",
      "score difference between 15 clusters and 16 clusters is 752,386\n",
      "score difference between 16 clusters and 17 clusters is 873,985\n",
      "score difference between 17 clusters and 18 clusters is 283,057\n",
      "score difference between 18 clusters and 19 clusters is 608,003\n",
      "score difference between 19 clusters and 20 clusters is 968,050\n"
     ]
    }
   ],
   "source": [
    "for i in range(len(scores)):\n",
    "    if i+1 >= len(scores):\n",
    "        break\n",
    "    dif = int(abs(scores[i+1] - scores[i]))\n",
    "    print(f'score difference between {i+1} clusters and {i+2} clusters is {dif:,}')"
   ]
  },
  {
   "cell_type": "code",
   "execution_count": 80,
   "metadata": {},
   "outputs": [
    {
     "data": {
      "image/png": "[encoded data removed]",
      "text/plain": [
       "<Figure size 720x504 with 1 Axes>"
      ]
     },
     "metadata": {
      "needs_background": "light"
     },
     "output_type": "display_data"
    }
   ],
   "source": [
    "# Investigate the change in within-cluster distance across number of clusters.\n",
    "# HINT: Use matplotlib's plot function to visualize this relationship.\n",
    "\n",
    "fig, ax = plt.subplots(figsize=(10,7))\n",
    "ax.plot(clusters, scores, linestyle='--', marker='o', color='b');\n",
    "ax.set_xlabel('#Cluster');\n",
    "ax.set_ylabel('Score');\n",
    "ax.set_xticks(clusters)\n",
    "ax.set_title('Score vs. #Cluster');"
   ]
  },
  {
   "cell_type": "code",
   "execution_count": 316,
   "metadata": {},
   "outputs": [],
   "source": [
    "# Re-fit the k-means model with the selected number of clusters and obtain\n",
    "# cluster predictions for the general population demographics data.\n",
    "\n",
    "kmeans_10 = KMeans(10)\n",
    "model_10 = kmeans_10.fit(pca_df_85)\n",
    "predictions_10 = model_10.predict(pca_df_85)"
   ]
  },
  {
   "cell_type": "code",
   "execution_count": 317,
   "metadata": {},
   "outputs": [
    {
     "data": {
      "text/plain": [
       "KMeans(n_clusters=10)"
      ]
     },
     "execution_count": 317,
     "metadata": {},
     "output_type": "execute_result"
    }
   ],
   "source": [
    "model_10"
   ]
  },
  {
   "cell_type": "code",
   "execution_count": 318,
   "metadata": {},
   "outputs": [],
   "source": [
    "# Save the model for further uses\n",
    "\n",
    "import pickle\n",
    "\n",
    "filename = \"model_kmeans_10.pkl\"\n",
    "pickle.dump(model_10, open(filename, 'wb'))"
   ]
  },
  {
   "cell_type": "code",
   "execution_count": 319,
   "metadata": {},
   "outputs": [],
   "source": [
    "# Model save sanity check\n",
    "\n",
    "import joblib\n",
    "\n",
    "model_sanity = joblib.load(\"model_kmeans_10.pkl\")"
   ]
  },
  {
   "cell_type": "code",
   "execution_count": 320,
   "metadata": {},
   "outputs": [
    {
     "data": {
      "text/plain": [
       "KMeans(n_clusters=10)"
      ]
     },
     "execution_count": 320,
     "metadata": {},
     "output_type": "execute_result"
    }
   ],
   "source": [
    "model_sanity"
   ]
  },
  {
   "cell_type": "markdown",
   "metadata": {},
   "source": [
    "### Discussion 3.1: Apply Clustering to General Population\n",
    "\n",
    "First of all, by using a for loop I extracted the every cluster (1 - 20) score and delta score between them. <br>\n",
    "When I analyzed the graph and delta scores, I decided to go further with 10 clusters since delta score kept increasing as  new clusters added and became promising value @Cluster 10. <br>\n",
    "Hence we will go with 10 clusters to create a new k-means model and make our cluster prediction using this model."
   ]
  },
  {
   "cell_type": "markdown",
   "metadata": {},
   "source": [
    "### Step 3.2: Apply All Steps to the Customer Data\n",
    "\n",
    "Now that you have clusters and cluster centers for the general population, it's time to see how the customer data maps on to those clusters. Take care to not confuse this for re-fitting all of the models to the customer data. Instead, you're going to use the fits from the general population to clean, transform, and cluster the customer data. In the last step of the project, you will interpret how the general population fits apply to the customer data.\n",
    "\n",
    "- Don't forget when loading in the customers data, that it is semicolon (`;`) delimited.\n",
    "- Apply the same feature wrangling, selection, and engineering steps to the customer demographics using the `clean_data()` function you created earlier. (You can assume that the customer demographics data has similar meaning behind missing data patterns as the general demographics data.)\n",
    "- Use the sklearn objects from the general demographics data, and apply their transformations to the customers data. That is, you should not be using a `.fit()` or `.fit_transform()` method to re-fit the old objects, nor should you be creating new sklearn objects! Carry the data through the feature scaling, PCA, and clustering steps, obtaining cluster assignments for all of the data in the customer demographics data."
   ]
  },
  {
   "cell_type": "code",
   "execution_count": 321,
   "metadata": {},
   "outputs": [],
   "source": [
    "# Load in the customer demographics data.\n",
    "customers = pd.read_csv('Udacity_CUSTOMERS_Subset.csv', delimiter=';')\n",
    "\n",
    "# Load in the feature summary file.\n",
    "feat_info = pd.read_csv('AZDIAS_Feature_Summary.csv', sep=';')"
   ]
  },
  {
   "cell_type": "code",
   "execution_count": 322,
   "metadata": {},
   "outputs": [
    {
     "name": "stderr",
     "output_type": "stream",
     "text": [
      "/Users/evrenermis/opt/anaconda3/lib/python3.7/site-packages/ipykernel_launcher.py:55: SettingWithCopyWarning:\n",
      "\n",
      "\n",
      "A value is trying to be set on a copy of a slice from a DataFrame.\n",
      "Try using .loc[row_indexer,col_indexer] = value instead\n",
      "\n",
      "See the caveats in the documentation: http://pandas.pydata.org/pandas-docs/stable/user_guide/indexing.html#returning-a-view-versus-a-copy\n",
      "\n"
     ]
    }
   ],
   "source": [
    "# Apply preprocessing, feature transformation, and clustering from the general\n",
    "# demographics onto the customer data, obtaining cluster predictions for the\n",
    "# customer demographics data.\n",
    "\n",
    "customer_clean = clean_data(customers, feat_info)"
   ]
  },
  {
   "cell_type": "code",
   "execution_count": 323,
   "metadata": {},
   "outputs": [
    {
     "data": {
      "text/html": [
       "<div>\n",
       "<style scoped>\n",
       "    .dataframe tbody tr th:only-of-type {\n",
       "        vertical-align: middle;\n",
       "    }\n",
       "\n",
       "    .dataframe tbody tr th {\n",
       "        vertical-align: top;\n",
       "    }\n",
       "\n",
       "    .dataframe thead th {\n",
       "        text-align: right;\n",
       "    }\n",
       "</style>\n",
       "<table border=\"1\" class=\"dataframe\">\n",
       "  <thead>\n",
       "    <tr style=\"text-align: right;\">\n",
       "      <th></th>\n",
       "      <th>ALTERSKATEGORIE_GROB</th>\n",
       "      <th>ANREDE_KZ</th>\n",
       "      <th>FINANZ_MINIMALIST</th>\n",
       "      <th>FINANZ_SPARER</th>\n",
       "      <th>FINANZ_VORSORGER</th>\n",
       "      <th>FINANZ_ANLEGER</th>\n",
       "      <th>FINANZ_UNAUFFAELLIGER</th>\n",
       "      <th>FINANZ_HAUSBAUER</th>\n",
       "      <th>GREEN_AVANTGARDE</th>\n",
       "      <th>HEALTH_TYP</th>\n",
       "      <th>...</th>\n",
       "      <th>CAMEO_DEU_2015_8D</th>\n",
       "      <th>CAMEO_DEU_2015_9A</th>\n",
       "      <th>CAMEO_DEU_2015_9B</th>\n",
       "      <th>CAMEO_DEU_2015_9C</th>\n",
       "      <th>CAMEO_DEU_2015_9D</th>\n",
       "      <th>CAMEO_DEU_2015_9E</th>\n",
       "      <th>DECADE</th>\n",
       "      <th>MOVEMENT</th>\n",
       "      <th>WEALTH</th>\n",
       "      <th>LIFE_STAGE</th>\n",
       "    </tr>\n",
       "  </thead>\n",
       "  <tbody>\n",
       "    <tr>\n",
       "      <td>0</td>\n",
       "      <td>4.0</td>\n",
       "      <td>1</td>\n",
       "      <td>5</td>\n",
       "      <td>1</td>\n",
       "      <td>5</td>\n",
       "      <td>1</td>\n",
       "      <td>2</td>\n",
       "      <td>2</td>\n",
       "      <td>1</td>\n",
       "      <td>1.0</td>\n",
       "      <td>...</td>\n",
       "      <td>0</td>\n",
       "      <td>0</td>\n",
       "      <td>0</td>\n",
       "      <td>0</td>\n",
       "      <td>0</td>\n",
       "      <td>0</td>\n",
       "      <td>2.0</td>\n",
       "      <td>0.0</td>\n",
       "      <td>1.0</td>\n",
       "      <td>3.0</td>\n",
       "    </tr>\n",
       "    <tr>\n",
       "      <td>2</td>\n",
       "      <td>4.0</td>\n",
       "      <td>2</td>\n",
       "      <td>5</td>\n",
       "      <td>1</td>\n",
       "      <td>5</td>\n",
       "      <td>1</td>\n",
       "      <td>4</td>\n",
       "      <td>4</td>\n",
       "      <td>1</td>\n",
       "      <td>2.0</td>\n",
       "      <td>...</td>\n",
       "      <td>0</td>\n",
       "      <td>0</td>\n",
       "      <td>0</td>\n",
       "      <td>0</td>\n",
       "      <td>0</td>\n",
       "      <td>0</td>\n",
       "      <td>2.0</td>\n",
       "      <td>0.0</td>\n",
       "      <td>3.0</td>\n",
       "      <td>4.0</td>\n",
       "    </tr>\n",
       "    <tr>\n",
       "      <td>3</td>\n",
       "      <td>4.0</td>\n",
       "      <td>1</td>\n",
       "      <td>5</td>\n",
       "      <td>1</td>\n",
       "      <td>5</td>\n",
       "      <td>2</td>\n",
       "      <td>1</td>\n",
       "      <td>2</td>\n",
       "      <td>0</td>\n",
       "      <td>2.0</td>\n",
       "      <td>...</td>\n",
       "      <td>0</td>\n",
       "      <td>0</td>\n",
       "      <td>0</td>\n",
       "      <td>0</td>\n",
       "      <td>0</td>\n",
       "      <td>0</td>\n",
       "      <td>1.0</td>\n",
       "      <td>1.0</td>\n",
       "      <td>2.0</td>\n",
       "      <td>4.0</td>\n",
       "    </tr>\n",
       "    <tr>\n",
       "      <td>4</td>\n",
       "      <td>3.0</td>\n",
       "      <td>1</td>\n",
       "      <td>3</td>\n",
       "      <td>1</td>\n",
       "      <td>4</td>\n",
       "      <td>4</td>\n",
       "      <td>5</td>\n",
       "      <td>2</td>\n",
       "      <td>0</td>\n",
       "      <td>3.0</td>\n",
       "      <td>...</td>\n",
       "      <td>0</td>\n",
       "      <td>0</td>\n",
       "      <td>0</td>\n",
       "      <td>0</td>\n",
       "      <td>0</td>\n",
       "      <td>0</td>\n",
       "      <td>4.0</td>\n",
       "      <td>1.0</td>\n",
       "      <td>4.0</td>\n",
       "      <td>1.0</td>\n",
       "    </tr>\n",
       "    <tr>\n",
       "      <td>5</td>\n",
       "      <td>3.0</td>\n",
       "      <td>1</td>\n",
       "      <td>5</td>\n",
       "      <td>1</td>\n",
       "      <td>5</td>\n",
       "      <td>1</td>\n",
       "      <td>2</td>\n",
       "      <td>3</td>\n",
       "      <td>1</td>\n",
       "      <td>3.0</td>\n",
       "      <td>...</td>\n",
       "      <td>0</td>\n",
       "      <td>0</td>\n",
       "      <td>0</td>\n",
       "      <td>0</td>\n",
       "      <td>0</td>\n",
       "      <td>0</td>\n",
       "      <td>2.0</td>\n",
       "      <td>0.0</td>\n",
       "      <td>3.0</td>\n",
       "      <td>4.0</td>\n",
       "    </tr>\n",
       "  </tbody>\n",
       "</table>\n",
       "<p>5 rows × 195 columns</p>\n",
       "</div>"
      ],
      "text/plain": [
       "   ALTERSKATEGORIE_GROB  ANREDE_KZ  FINANZ_MINIMALIST  FINANZ_SPARER  \\\n",
       "0                   4.0          1                  5              1   \n",
       "2                   4.0          2                  5              1   \n",
       "3                   4.0          1                  5              1   \n",
       "4                   3.0          1                  3              1   \n",
       "5                   3.0          1                  5              1   \n",
       "\n",
       "   FINANZ_VORSORGER  FINANZ_ANLEGER  FINANZ_UNAUFFAELLIGER  FINANZ_HAUSBAUER  \\\n",
       "0                 5               1                      2                 2   \n",
       "2                 5               1                      4                 4   \n",
       "3                 5               2                      1                 2   \n",
       "4                 4               4                      5                 2   \n",
       "5                 5               1                      2                 3   \n",
       "\n",
       "   GREEN_AVANTGARDE  HEALTH_TYP  ...  CAMEO_DEU_2015_8D  CAMEO_DEU_2015_9A  \\\n",
       "0                 1         1.0  ...                  0                  0   \n",
       "2                 1         2.0  ...                  0                  0   \n",
       "3                 0         2.0  ...                  0                  0   \n",
       "4                 0         3.0  ...                  0                  0   \n",
       "5                 1         3.0  ...                  0                  0   \n",
       "\n",
       "   CAMEO_DEU_2015_9B  CAMEO_DEU_2015_9C  CAMEO_DEU_2015_9D  CAMEO_DEU_2015_9E  \\\n",
       "0                  0                  0                  0                  0   \n",
       "2                  0                  0                  0                  0   \n",
       "3                  0                  0                  0                  0   \n",
       "4                  0                  0                  0                  0   \n",
       "5                  0                  0                  0                  0   \n",
       "\n",
       "   DECADE  MOVEMENT  WEALTH  LIFE_STAGE  \n",
       "0     2.0       0.0     1.0         3.0  \n",
       "2     2.0       0.0     3.0         4.0  \n",
       "3     1.0       1.0     2.0         4.0  \n",
       "4     4.0       1.0     4.0         1.0  \n",
       "5     2.0       0.0     3.0         4.0  \n",
       "\n",
       "[5 rows x 195 columns]"
      ]
     },
     "execution_count": 323,
     "metadata": {},
     "output_type": "execute_result"
    }
   ],
   "source": [
    "customer_clean.head()"
   ]
  },
  {
   "cell_type": "code",
   "execution_count": 324,
   "metadata": {},
   "outputs": [
    {
     "data": {
      "text/plain": [
       "(141713, 195)"
      ]
     },
     "execution_count": 324,
     "metadata": {},
     "output_type": "execute_result"
    }
   ],
   "source": [
    "customer_clean.shape"
   ]
  },
  {
   "cell_type": "code",
   "execution_count": 325,
   "metadata": {},
   "outputs": [
    {
     "data": {
      "text/plain": [
       "(797961, 196)"
      ]
     },
     "execution_count": 325,
     "metadata": {},
     "output_type": "execute_result"
    }
   ],
   "source": [
    "df_new.shape"
   ]
  },
  {
   "cell_type": "code",
   "execution_count": 326,
   "metadata": {},
   "outputs": [
    {
     "name": "stdout",
     "output_type": "stream",
     "text": [
      "- Although demographics data has 196 number of features, customer data has only 195\n",
      "\n",
      " - We need to equal the feature numbers by adding missing columns to customer data to avoid data imputation or scaling error.\n"
     ]
    }
   ],
   "source": [
    "print(\"- Although demographics data has {} number of features, customer data has only {}\".format(df_new.shape[1], \n",
    "                                                                                               customer_clean.shape[1]))\n",
    "print(\"\\n - We need to equal the feature numbers by adding missing columns to customer data \" +\n",
    "      \"to avoid data imputation or scaling error.\")"
   ]
  },
  {
   "cell_type": "code",
   "execution_count": 327,
   "metadata": {},
   "outputs": [
    {
     "name": "stdout",
     "output_type": "stream",
     "text": [
      "Missing columns are = ['GEBAEUDETYP_5.0']\n"
     ]
    }
   ],
   "source": [
    "print(\"Missing columns are = \" + str(df_new.columns.difference(customer_clean.columns).values))"
   ]
  },
  {
   "cell_type": "code",
   "execution_count": 328,
   "metadata": {},
   "outputs": [
    {
     "data": {
      "text/plain": [
       "(141713, 196)"
      ]
     },
     "execution_count": 328,
     "metadata": {},
     "output_type": "execute_result"
    }
   ],
   "source": [
    "# Adding missing column to customer_clean data\n",
    "\n",
    "customer_clean[\"GEBAEUDETYP_5.0\"] = 0\n",
    "\n",
    "# Validation\n",
    "customer_clean.shape"
   ]
  },
  {
   "cell_type": "code",
   "execution_count": 329,
   "metadata": {},
   "outputs": [],
   "source": [
    "customer_imputed = imputer.transform(customer_clean)\n",
    "customer_scaled = standardscaler.transform(customer_imputed)\n",
    "customer_pca_85 = pca_85.transform(customer_scaled)\n",
    "customer_predictions_10 = model_10.predict(customer_pca_85)"
   ]
  },
  {
   "cell_type": "markdown",
   "metadata": {},
   "source": [
    "### Step 3.3: Compare Customer Data to Demographics Data\n",
    "\n",
    "At this point, you have clustered data based on demographics of the general population of Germany, and seen how the customer data for a mail-order sales company maps onto those demographic clusters. In this final substep, you will compare the two cluster distributions to see where the strongest customer base for the company is.\n",
    "\n",
    "Consider the proportion of persons in each cluster for the general population, and the proportions for the customers. If we think the company's customer base to be universal, then the cluster assignment proportions should be fairly similar between the two. If there are only particular segments of the population that are interested in the company's products, then we should see a mismatch from one to the other. If there is a higher proportion of persons in a cluster for the customer data compared to the general population (e.g. 5% of persons are assigned to a cluster for the general population, but 15% of the customer data is closest to that cluster's centroid) then that suggests the people in that cluster to be a target audience for the company. On the other hand, the proportion of the data in a cluster being larger in the general population than the customer data (e.g. only 2% of customers closest to a population centroid that captures 6% of the data) suggests that group of persons to be outside of the target demographics.\n",
    "\n",
    "Take a look at the following points in this step:\n",
    "\n",
    "- Compute the proportion of data points in each cluster for the general population and the customer data. Visualizations will be useful here: both for the individual dataset proportions, but also to visualize the ratios in cluster representation between groups. Seaborn's [`countplot()`](https://seaborn.pydata.org/generated/seaborn.countplot.html) or [`barplot()`](https://seaborn.pydata.org/generated/seaborn.barplot.html) function could be handy.\n",
    "  - Recall the analysis you performed in step 1.1.3 of the project, where you separated out certain data points from the dataset if they had more than a specified threshold of missing values. If you found that this group was qualitatively different from the main bulk of the data, you should treat this as an additional data cluster in this analysis. Make sure that you account for the number of data points in this subset, for both the general population and customer datasets, when making your computations!\n",
    "- Which cluster or clusters are overrepresented in the customer dataset compared to the general population? Select at least one such cluster and infer what kind of people might be represented by that cluster. Use the principal component interpretations from step 2.3 or look at additional components to help you make this inference. Alternatively, you can use the `.inverse_transform()` method of the PCA and StandardScaler objects to transform centroids back to the original data space and interpret the retrieved values directly.\n",
    "- Perform a similar investigation for the underrepresented clusters. Which cluster or clusters are underrepresented in the customer dataset compared to the general population, and what kinds of people are typified by these clusters?"
   ]
  },
  {
   "cell_type": "code",
   "execution_count": 331,
   "metadata": {},
   "outputs": [
    {
     "data": {
      "image/png": "[encoded data removed]",
      "text/plain": [
       "<Figure size 1080x432 with 2 Axes>"
      ]
     },
     "metadata": {
      "needs_background": "light"
     },
     "output_type": "display_data"
    }
   ],
   "source": [
    "# Compare the proportion of data in each cluster for the customer data to the\n",
    "# proportion of data in each cluster for the general population.\n",
    "\n",
    "demographics_props = np.unique(predictions_10,return_counts=True)[1]/ len(predictions_10)*100\n",
    "customer_props = np.unique(customer_predictions_10, return_counts=True)[1] / len(customer_predictions_10)*100\n",
    "\n",
    "fig, ax = plt.subplots(nrows=1, ncols=2,figsize = (15,6),sharex=True)\n",
    "plt.xlabel(\"#Cluster\")\n",
    "plt.ylabel(\"Proportion\")\n",
    "\n",
    "sns.barplot(x = np.arange(0,10,1),y = demographics_props, ax = ax[0], color = \"r\")\n",
    "ax[0].set_title(\"Demographics Data\")\n",
    "\n",
    "sns.barplot(x = np.arange(0,10,1),y = customer_props,ax = ax[1], color = 'b')\n",
    "ax[1].set_title(\"Customer Data\")\n",
    "\n",
    "[ax[i].set_xlabel(\"#Cluster\") for i in range(2)]\n",
    "[ax[i].set_ylabel(\"Proportion\") for i in range(2)]\n",
    "\n",
    "plt.show()"
   ]
  },
  {
   "cell_type": "code",
   "execution_count": 279,
   "metadata": {},
   "outputs": [],
   "source": [
    "# What kinds of people are part of a cluster that is overrepresented in the\n",
    "# customer data compared to the general population?"
   ]
  },
  {
   "cell_type": "markdown",
   "metadata": {},
   "source": [
    "## *Cluster 2 is overpresented in customer data compered to the general population*"
   ]
  },
  {
   "cell_type": "markdown",
   "metadata": {},
   "source": [
    "### *Cluster 2 Principal Components*"
   ]
  },
  {
   "cell_type": "code",
   "execution_count": 332,
   "metadata": {},
   "outputs": [
    {
     "data": {
      "image/png": "[encoded data removed]",
      "text/plain": [
       "<Figure size 720x504 with 1 Axes>"
      ]
     },
     "metadata": {
      "needs_background": "light"
     },
     "output_type": "display_data"
    },
    {
     "data": {
      "text/plain": [
       "SEMIO_VERT        0.3149\n",
       "SEMIO_FAM         0.2559\n",
       "SEMIO_SOZ         0.2543\n",
       "SEMIO_KULT        0.2474\n",
       "FINANZ_ANLEGER   -0.1546\n",
       "SEMIO_ERL        -0.2059\n",
       "SEMIO_KRIT       -0.2651\n",
       "SEMIO_DOM        -0.2753\n",
       "SEMIO_KAEM       -0.3077\n",
       "ANREDE_KZ        -0.3393\n",
       "Name: Dimension 3, dtype: float64"
      ]
     },
     "execution_count": 332,
     "metadata": {},
     "output_type": "execute_result"
    }
   ],
   "source": [
    "# Principal component analysis results.. (Cluster 2)\n",
    "\n",
    "pca_results(df_new, pca_85, 2, 10)"
   ]
  },
  {
   "cell_type": "markdown",
   "metadata": {},
   "source": [
    "### *Cluster 2 Details*"
   ]
  },
  {
   "cell_type": "code",
   "execution_count": 363,
   "metadata": {},
   "outputs": [
    {
     "data": {
      "text/plain": [
       "ALTERSKATEGORIE_GROB    3.280848\n",
       "ANREDE_KZ               1.508040\n",
       "FINANZ_MINIMALIST       4.549453\n",
       "FINANZ_SPARER           1.731979\n",
       "FINANZ_VORSORGER        4.103507\n",
       "                          ...   \n",
       "DECADE                  0.003009\n",
       "MOVEMENT                3.696615\n",
       "WEALTH                 -0.004754\n",
       "LIFE_STAGE              2.029940\n",
       "GEBAEUDETYP_5.0         3.600909\n",
       "Length: 196, dtype: float64"
      ]
     },
     "execution_count": 363,
     "metadata": {},
     "output_type": "execute_result"
    }
   ],
   "source": [
    "c0 = standardscaler.inverse_transform(pca_85.inverse_transform(model_10.cluster_centers_[2]))\n",
    "c0 = pd.Series(c0)\n",
    "c0.index = customer_clean.columns\n",
    "c0"
   ]
  },
  {
   "cell_type": "code",
   "execution_count": null,
   "metadata": {},
   "outputs": [],
   "source": [
    "# What kinds of people are part of a cluster that is underrepresented in the\n",
    "# customer data compared to the general population?"
   ]
  },
  {
   "cell_type": "markdown",
   "metadata": {},
   "source": [
    "## *Cluster 5 is underpresented in customer data compered to the general population*"
   ]
  },
  {
   "cell_type": "code",
   "execution_count": 334,
   "metadata": {},
   "outputs": [
    {
     "data": {
      "image/png": "[encoded data removed]",
      "text/plain": [
       "<Figure size 720x504 with 1 Axes>"
      ]
     },
     "metadata": {
      "needs_background": "light"
     },
     "output_type": "display_data"
    },
    {
     "data": {
      "text/plain": [
       "LP_STATUS_GROB_2.0     0.3356\n",
       "LP_STATUS_FEIN_4.0     0.2482\n",
       "FINANZ_HAUSBAUER       0.2139\n",
       "LP_STATUS_FEIN_3.0     0.1687\n",
       "LP_FAMILIE_GROB_5.0    0.1600\n",
       "LP_STATUS_GROB_3.0     0.1525\n",
       "MIN_GEBAEUDEJAHR      -0.1488\n",
       "FINANZTYP_3           -0.1583\n",
       "LP_STATUS_FEIN_9.0    -0.1944\n",
       "LP_STATUS_GROB_4.0    -0.2255\n",
       "Name: Dimension 6, dtype: float64"
      ]
     },
     "execution_count": 334,
     "metadata": {},
     "output_type": "execute_result"
    }
   ],
   "source": [
    "# Principal component analysis results.. \n",
    "\n",
    "pca_results(df_new, pca_85, 5, 10)"
   ]
  },
  {
   "cell_type": "markdown",
   "metadata": {},
   "source": [
    "### *Cluster 5 Details*"
   ]
  },
  {
   "cell_type": "code",
   "execution_count": 356,
   "metadata": {},
   "outputs": [
    {
     "data": {
      "text/plain": [
       "ALTERSKATEGORIE_GROB    1.808185\n",
       "ANREDE_KZ               1.985261\n",
       "FINANZ_MINIMALIST       1.114379\n",
       "FINANZ_SPARER           4.424062\n",
       "FINANZ_VORSORGER        2.231512\n",
       "                          ...   \n",
       "DECADE                  0.004559\n",
       "MOVEMENT                5.558723\n",
       "WEALTH                  0.938509\n",
       "LIFE_STAGE              4.318248\n",
       "GEBAEUDETYP_5.0         2.102322\n",
       "Length: 196, dtype: float64"
      ]
     },
     "execution_count": 356,
     "metadata": {},
     "output_type": "execute_result"
    }
   ],
   "source": [
    "c0 = standardscaler.inverse_transform(pca_85.inverse_transform(model_10.cluster_centers_[5]))\n",
    "c0 = pd.Series(c0)\n",
    "c0.index = customer_clean.columns\n",
    "c0"
   ]
  },
  {
   "cell_type": "markdown",
   "metadata": {},
   "source": [
    "### Discussion 3.3: Compare Customer Data to Demographics Data\n",
    "\n",
    "After investigation customers and general population propotions for each cluster, I found that **Cluster-2** is overrepresented while **Cluster-5** is underrepresented in the customer data comapered to the general population.\n",
    "***\n",
    "\n",
    "### Cluster 2 Analysis *(overpresented)*\n",
    "***\n",
    "#### *Positevely Correlated*\n",
    "- SEMIO_VERT        |  0.3149   --> Personality Typology: dreamful / 4.65: Average - Low Affinity\n",
    "- SEMIO_FAM         |  0.2559   --> Personality Typology: Family-minded / 3.48: High Affinity*\n",
    "- SEMIO_SOZ         |  0.2543   --> Personality Typology: socially-minded / 4.05: Average Affinity\n",
    "- SEMIO_KULT        |  0.2474   --> Personality Typology: cultural-minded / 3.56: High - Average Affinity\n",
    "\n",
    "#### *Negatively Correlated*\n",
    "\n",
    "- FINANZ_ANLEGER    | -0.1546   --> Financial Typology: investor /1.92: Very High\n",
    "- SEMIO_ERL         | -0.2059   --> Personality Typology: event-oriented / 5.12: Low Affinity\n",
    "- SEMIO_KRIT        | -0.2651   --> Personality Typology: critical-minded / 4.40: Average Affinity\n",
    "- SEMIO_DOM         | -0.2753   --> Personality Typology: dominant-minded / 4.72: Low Affinity\n",
    "- SEMIO_KAEM        | -0.3077   --> Personality Typology: combative attitude /4.26: Average Affinity\n",
    "- ANREDE_KZ         | -0.3393   --> Gender / 1.50: Male-1, Female-2 - could not specified.\n",
    "\n",
    "\n",
    "### Cluster 5 Analysis *(underpresented)*\n",
    "***\n",
    "#### *Positevely Correlated*\n",
    "- LP_STATUS_GROB_2.0     | 0.3356 --> Social state / Average earners\n",
    "- LP_STATUS_FEIN_4.0     | 0.2482 --> Social state / Villagers\n",
    "- FINANZ_HAUSBAUER       | 0.2139 --> Financial typology / 4.32: low\n",
    "- LP_STATUS_FEIN_3.0     | 0.1687 --> Social state / Aspiring low\n",
    "- LP_FAMILIE_GROB_5.0    | 0.1600 --> Family type / multi-person households\n",
    "- LP_STATUS_GROB_3.0     | 0.1525 --> Social status / independents\n",
    "\n",
    "#### *Negatively Correlated*\n",
    "\n",
    "- MIN_GEBAEUDEJAHR      | -0.1488 --> First year of the building / 1992\n",
    "- FINANZTYP_3           | -0.1583 --> Most descriptive financial type for individual / home ownership\n",
    "- LP_STATUS_FEIN_9.0    | -0.1944 --> Social status / Houseowners\n",
    "- LP_STATUS_GROB_4.0    | -0.2255 --> Social status / houseowners\n",
    "\n",
    "\n",
    "### Conclusion\n",
    "***\n",
    "\n",
    "According to that analysis, **Cluster-2 represents the target audience of the company** while **Cluster-5 is outside of the company target** <br> Therefore we can say that, dreamful, family-mindend, socially-minded, and cultural-minded people are on the scope of the company. On the other hand, people who earns average income or a villager are out out the company target scope."
   ]
  },
  {
   "cell_type": "markdown",
   "metadata": {},
   "source": [
    "> Congratulations on making it this far in the project! Before you finish, make sure to check through the entire notebook from top to bottom to make sure that your analysis follows a logical flow and all of your findings are documented in **Discussion** cells. Once you've checked over all of your work, you should export the notebook as an HTML document to submit for evaluation. You can do this from the menu, navigating to **File -> Download as -> HTML (.html)**. You will submit both that document and this notebook for your project submission."
   ]
  },
  {
   "cell_type": "code",
   "execution_count": null,
   "metadata": {},
   "outputs": [],
   "source": []
  }
 ],
 "metadata": {
  "kernelspec": {
   "display_name": "Python 3",
   "language": "python",
   "name": "python3"
  },
  "language_info": {
   "codemirror_mode": {
    "name": "ipython",
    "version": 3
   },
   "file_extension": ".py",
   "mimetype": "text/x-python",
   "name": "python",
   "nbconvert_exporter": "python",
   "pygments_lexer": "ipython3",
   "version": "3.7.4"
  }
 },
 "nbformat": 4,
 "nbformat_minor": 2
}
